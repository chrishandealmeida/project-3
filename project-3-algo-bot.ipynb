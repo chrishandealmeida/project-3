{
 "cells": [
  {
   "cell_type": "code",
   "execution_count": 35,
   "id": "c181d5da-29a1-4ce5-ae3c-7f14f769629b",
   "metadata": {},
   "outputs": [],
   "source": [
    "import websocket\n",
    "import json\n",
    "import pprint\n",
    "import talib\n",
    "import numpy as np\n",
    "import config\n",
    "import pandas as pd\n",
    "from binance.client import Client\n",
    "from binance.enums import *\n",
    "import tkinter as tk\n",
    "import asyncio"
   ]
  },
  {
   "cell_type": "code",
   "execution_count": 2,
   "id": "b572d3e3-1a1c-449b-b254-793b42060e6b",
   "metadata": {},
   "outputs": [],
   "source": [
    "SOCKET = \"wss://stream.binance.com:9443/ws/btcusdt@miniTicker\""
   ]
  },
  {
   "cell_type": "code",
   "execution_count": 3,
   "id": "57a02ac7-611d-4beb-b93f-09020da49ce1",
   "metadata": {},
   "outputs": [],
   "source": [
    "# RSI_PERIOD = 14\n",
    "# RSI_OVERBOUGHT = 70\n",
    "# RSI_OVERSOLD = 30\n",
    "# TRADE_SYMBOL = 'ETHUSD'\n",
    "# TRADE_QUANTITY = 0.05"
   ]
  },
  {
   "cell_type": "code",
   "execution_count": 4,
   "id": "0fb72b2d-8134-4084-b447-0914ef900a4a",
   "metadata": {},
   "outputs": [],
   "source": [
    "client = Client(config.API_KEY, config.API_SECRET, testnet = True)"
   ]
  },
  {
   "cell_type": "code",
   "execution_count": 5,
   "id": "4d4af9f0-d50b-45b4-868d-bc43eb433c82",
   "metadata": {},
   "outputs": [],
   "source": [
    "# def order(side, quantity, symbol, order_type=ORDER_TYPE_MARKET):\n",
    "#     try:\n",
    "#         print(\"sending order\")\n",
    "#         order = client.create_order(symbol=symbol, side=side, type=order_type, quantity=quantity)\n",
    "#         #print(order)\n",
    "#     except Exception as e:\n",
    "#         #print(\"an exception occurred - {}\".format(e))\n",
    "#         return False, e\n",
    "#         #return \"an exception occurred\"\n",
    "\n",
    "#     return True, order\n",
    "#     #return order"
   ]
  },
  {
   "cell_type": "code",
   "execution_count": 6,
   "id": "5cb95b93-6b66-4a67-b522-43bc822fcd05",
   "metadata": {},
   "outputs": [],
   "source": [
    "# Putting in an order\n",
    "#success, order_response = order('buy', '0.001', 'BTCUSDT')"
   ]
  },
  {
   "cell_type": "code",
   "execution_count": 7,
   "id": "f46c5380-fe83-4264-8926-e96815df645c",
   "metadata": {},
   "outputs": [],
   "source": [
    "# Printing order response\n",
    "#pprint.pprint(order_response)"
   ]
  },
  {
   "cell_type": "code",
   "execution_count": 8,
   "id": "3de00c10-77b6-4b58-add2-e5218c1baed4",
   "metadata": {},
   "outputs": [],
   "source": [
    "#res=client.get_exchange_info()\n"
   ]
  },
  {
   "cell_type": "code",
   "execution_count": 9,
   "id": "0a888355-5ce2-41dc-970b-1ea763c13ccf",
   "metadata": {},
   "outputs": [],
   "source": [
    "#print(client.response.headers)"
   ]
  },
  {
   "cell_type": "code",
   "execution_count": 10,
   "id": "90d066fa-31c1-47d3-8e29-99b39c329461",
   "metadata": {},
   "outputs": [],
   "source": [
    "#client.get_all_orders(symbol = 'BTCUSDT')"
   ]
  },
  {
   "cell_type": "code",
   "execution_count": 42,
   "id": "a0cfa410-7b1e-41d3-ad2b-538b2c96b05b",
   "metadata": {},
   "outputs": [
    {
     "data": {
      "text/plain": [
       "{'makerCommission': 0,\n",
       " 'takerCommission': 0,\n",
       " 'buyerCommission': 0,\n",
       " 'sellerCommission': 0,\n",
       " 'canTrade': True,\n",
       " 'canWithdraw': False,\n",
       " 'canDeposit': False,\n",
       " 'updateTime': 1627346625501,\n",
       " 'accountType': 'SPOT',\n",
       " 'balances': [{'asset': 'BNB',\n",
       "   'free': '1000.00000000',\n",
       "   'locked': '0.00000000'},\n",
       "  {'asset': 'BTC', 'free': '1.20640900', 'locked': '0.00000000'},\n",
       "  {'asset': 'BUSD', 'free': '10000.00000000', 'locked': '0.00000000'},\n",
       "  {'asset': 'ETH', 'free': '101.00000000', 'locked': '0.00000000'},\n",
       "  {'asset': 'LTC', 'free': '500.00000000', 'locked': '0.00000000'},\n",
       "  {'asset': 'TRX', 'free': '500000.00000000', 'locked': '0.00000000'},\n",
       "  {'asset': 'USDT', 'free': '2263.04887274', 'locked': '0.00000000'},\n",
       "  {'asset': 'XRP', 'free': '50000.00000000', 'locked': '0.00000000'}],\n",
       " 'permissions': ['SPOT']}"
      ]
     },
     "execution_count": 42,
     "metadata": {},
     "output_type": "execute_result"
    }
   ],
   "source": [
    "# Get \n",
    "client.get_account()"
   ]
  },
  {
   "cell_type": "code",
   "execution_count": 12,
   "id": "e66bb47e-7f0d-4c08-b9da-1db345234b05",
   "metadata": {},
   "outputs": [],
   "source": [
    "# balance_btc = client.get_asset_balance(asset='BTC')\n",
    "# print(balance_btc)"
   ]
  },
  {
   "cell_type": "code",
   "execution_count": 13,
   "id": "84b03061-df83-435e-bb59-a3d9fc78488c",
   "metadata": {},
   "outputs": [],
   "source": [
    "def on_open(ws):\n",
    "    print('opened connection')"
   ]
  },
  {
   "cell_type": "code",
   "execution_count": 14,
   "id": "96afb35f-e784-435d-93af-de4b798e98f8",
   "metadata": {},
   "outputs": [],
   "source": [
    "def on_close(ws):\n",
    "    print('closed connection')"
   ]
  },
  {
   "cell_type": "code",
   "execution_count": 15,
   "id": "a6af511e-abad-4230-8f61-6f8460781e7e",
   "metadata": {},
   "outputs": [],
   "source": [
    "# def on_message(ws, message):\n",
    "#     print('received message')\n",
    "#     json_message = json.loads(message)\n",
    "#     pprint.pprint(json_message)\n",
    "    \n",
    "#     candle = json_message['k']\n",
    "    \n",
    "#     is_candle_closed = candle['x']\n",
    "#     close = candle['c']\n",
    "    \n",
    "#     if is_candle_closed:\n",
    "#         print(\"candle closed at {}\".format(close))\n",
    "#         closes.append(float(close))\n",
    "#         print(\"closes\")\n",
    "#         print(closes)\n",
    "        \n",
    "#         if len(closes) > RSI_PERIOD"
   ]
  },
  {
   "cell_type": "code",
   "execution_count": 16,
   "id": "f1394049-c79b-4f6e-8c17-394428edab2b",
   "metadata": {},
   "outputs": [
    {
     "data": {
      "text/html": [
       "<div>\n",
       "<style scoped>\n",
       "    .dataframe tbody tr th:only-of-type {\n",
       "        vertical-align: middle;\n",
       "    }\n",
       "\n",
       "    .dataframe tbody tr th {\n",
       "        vertical-align: top;\n",
       "    }\n",
       "\n",
       "    .dataframe thead th {\n",
       "        text-align: right;\n",
       "    }\n",
       "</style>\n",
       "<table border=\"1\" class=\"dataframe\">\n",
       "  <thead>\n",
       "    <tr style=\"text-align: right;\">\n",
       "      <th></th>\n",
       "      <th>close</th>\n",
       "      <th>bollinger_signal</th>\n",
       "    </tr>\n",
       "  </thead>\n",
       "  <tbody>\n",
       "  </tbody>\n",
       "</table>\n",
       "</div>"
      ],
      "text/plain": [
       "Empty DataFrame\n",
       "Columns: [close, bollinger_signal]\n",
       "Index: []"
      ]
     },
     "execution_count": 16,
     "metadata": {},
     "output_type": "execute_result"
    }
   ],
   "source": [
    "financials_df = pd.DataFrame(columns = ['close', 'bollinger_signal'])\n",
    "financials_df.head()"
   ]
  },
  {
   "cell_type": "code",
   "execution_count": 17,
   "id": "9b5b55cb-4fe9-4571-b216-c2e74a39858c",
   "metadata": {},
   "outputs": [],
   "source": [
    "BOLLINGER_WINDOW = 20\n",
    "def get_bollinger_signal(close):\n",
    "    #print('the close price is ')\n",
    "    #print(close)\n",
    "    global financials_df\n",
    "    #print(financials_df)\n",
    "    #print(financials_df['close'])\n",
    "    if len(financials_df) < BOLLINGER_WINDOW:\n",
    "        financials_df = financials_df.append({'close' : float(close), 'bollinger_signal' : 0}, ignore_index = True)\n",
    "        return\n",
    "    bollinger_mean = financials_df['close'].rolling(window=BOLLINGER_WINDOW).mean()\n",
    "    #print('bollinger mean is ')\n",
    "    #print(bollinger_mean)\n",
    "    bollinger_std = financials_df['close'].rolling(window=BOLLINGER_WINDOW).std()\n",
    "    #print('bollinger std is ')\n",
    "    #print(bollinger_std)\n",
    "    bollinger_upper_band = bollinger_mean + bollinger_std\n",
    "    #print('bollinger upper band is ')\n",
    "    #print(bollinger_upper_band)\n",
    "    bollinger_lower_band = bollinger_mean - bollinger_std\n",
    "    #print('bollinger lower band is ')\n",
    "    #print(bollinger_lower_band)\n",
    "    bollinger_long = np.where(close < bollinger_lower_band, 1.0, 0.0)\n",
    "    #print('bollinger long is ')\n",
    "    #print(bollinger_long)\n",
    "    bollinger_short = np.where(close > bollinger_upper_band, -1.0, 0.0)\n",
    "    #print('bollinger short is ')\n",
    "    #print(bollinger_short)\n",
    "    bollinger_signal = bollinger_long + bollinger_short\n",
    "    #print('bollinger signal is ')\n",
    "    #print(bollinger_signal)\n",
    "    financials_df = financials_df.append({'close' : float(close), 'bollinger_signal' : bollinger_signal[-1]}, ignore_index = True)\n",
    "\n",
    "\n",
    "    return"
   ]
  },
  {
   "cell_type": "code",
   "execution_count": 18,
   "id": "0835eb33-3f06-4322-93bb-5db272078bca",
   "metadata": {},
   "outputs": [],
   "source": [
    "#get_bollinger_signal(42000)"
   ]
  },
  {
   "cell_type": "code",
   "execution_count": 19,
   "id": "2dff442a-3bc1-4f6e-b793-cc3db6f3a44f",
   "metadata": {},
   "outputs": [],
   "source": [
    "#bollinger_mean = financials_df['close'].rolling(window=BOLLINGER_WINDOW).mean()\n",
    "#print(bollinger_mean)"
   ]
  },
  {
   "cell_type": "code",
   "execution_count": 20,
   "id": "e87d78c0-01cf-4a7b-8ff9-04f5608950ba",
   "metadata": {},
   "outputs": [],
   "source": [
    "#financials_df"
   ]
  },
  {
   "cell_type": "code",
   "execution_count": 21,
   "id": "5709949d-b86b-4252-a3a2-3a9ea3713849",
   "metadata": {},
   "outputs": [],
   "source": [
    "def on_message(ws, message):\n",
    "    #print('received message')\n",
    "    json_message = json.loads(message)\n",
    "    #pprint.pprint(json_message)\n",
    "    close = json_message['c']\n",
    "    #print('close price ' + close)\n",
    "    # get Bollinger values\n",
    "    #print('financials df length ' + len(financials_df))\n",
    "    get_bollinger_signal(float(close))\n",
    "    #print('bollinger signal ' + bollinger_signal)\n",
    "    #financials_df = financials_df.append({'close' : float(close), 'bollinger_signal' : bollinger_signal})\n",
    "    #print(\"close\")\n",
    "    #print('got bollinger signal')"
   ]
  },
  {
   "cell_type": "code",
   "execution_count": 22,
   "id": "4b196db6-7fea-439f-a496-7c5838404c0c",
   "metadata": {},
   "outputs": [],
   "source": [
    "ws = websocket.WebSocketApp(SOCKET, on_open=on_open, on_close=on_close, on_message=on_message)"
   ]
  },
  {
   "cell_type": "code",
   "execution_count": 23,
   "id": "c64d58c2-f8cf-4b6e-8a1c-832c5e87baa1",
   "metadata": {},
   "outputs": [
    {
     "name": "stdout",
     "output_type": "stream",
     "text": [
      "opened connection\n"
     ]
    },
    {
     "data": {
      "text/plain": [
       "False"
      ]
     },
     "execution_count": 23,
     "metadata": {},
     "output_type": "execute_result"
    }
   ],
   "source": [
    "ws.run_forever()"
   ]
  },
  {
   "cell_type": "code",
   "execution_count": 24,
   "id": "0d49675a-c3e3-4b19-a45b-227a4ec00ce2",
   "metadata": {},
   "outputs": [
    {
     "data": {
      "text/html": [
       "<div>\n",
       "<style scoped>\n",
       "    .dataframe tbody tr th:only-of-type {\n",
       "        vertical-align: middle;\n",
       "    }\n",
       "\n",
       "    .dataframe tbody tr th {\n",
       "        vertical-align: top;\n",
       "    }\n",
       "\n",
       "    .dataframe thead th {\n",
       "        text-align: right;\n",
       "    }\n",
       "</style>\n",
       "<table border=\"1\" class=\"dataframe\">\n",
       "  <thead>\n",
       "    <tr style=\"text-align: right;\">\n",
       "      <th></th>\n",
       "      <th>close</th>\n",
       "      <th>bollinger_signal</th>\n",
       "    </tr>\n",
       "  </thead>\n",
       "  <tbody>\n",
       "    <tr>\n",
       "      <th>0</th>\n",
       "      <td>37666.35</td>\n",
       "      <td>0.0</td>\n",
       "    </tr>\n",
       "    <tr>\n",
       "      <th>1</th>\n",
       "      <td>37669.53</td>\n",
       "      <td>0.0</td>\n",
       "    </tr>\n",
       "    <tr>\n",
       "      <th>2</th>\n",
       "      <td>37669.33</td>\n",
       "      <td>0.0</td>\n",
       "    </tr>\n",
       "    <tr>\n",
       "      <th>3</th>\n",
       "      <td>37686.75</td>\n",
       "      <td>0.0</td>\n",
       "    </tr>\n",
       "    <tr>\n",
       "      <th>4</th>\n",
       "      <td>37690.71</td>\n",
       "      <td>0.0</td>\n",
       "    </tr>\n",
       "    <tr>\n",
       "      <th>5</th>\n",
       "      <td>37699.00</td>\n",
       "      <td>0.0</td>\n",
       "    </tr>\n",
       "    <tr>\n",
       "      <th>6</th>\n",
       "      <td>37694.65</td>\n",
       "      <td>0.0</td>\n",
       "    </tr>\n",
       "    <tr>\n",
       "      <th>7</th>\n",
       "      <td>37694.66</td>\n",
       "      <td>0.0</td>\n",
       "    </tr>\n",
       "    <tr>\n",
       "      <th>8</th>\n",
       "      <td>37694.66</td>\n",
       "      <td>0.0</td>\n",
       "    </tr>\n",
       "    <tr>\n",
       "      <th>9</th>\n",
       "      <td>37694.66</td>\n",
       "      <td>0.0</td>\n",
       "    </tr>\n",
       "    <tr>\n",
       "      <th>10</th>\n",
       "      <td>37696.00</td>\n",
       "      <td>0.0</td>\n",
       "    </tr>\n",
       "    <tr>\n",
       "      <th>11</th>\n",
       "      <td>37700.74</td>\n",
       "      <td>0.0</td>\n",
       "    </tr>\n",
       "    <tr>\n",
       "      <th>12</th>\n",
       "      <td>37696.01</td>\n",
       "      <td>0.0</td>\n",
       "    </tr>\n",
       "    <tr>\n",
       "      <th>13</th>\n",
       "      <td>37696.37</td>\n",
       "      <td>0.0</td>\n",
       "    </tr>\n",
       "    <tr>\n",
       "      <th>14</th>\n",
       "      <td>37696.42</td>\n",
       "      <td>0.0</td>\n",
       "    </tr>\n",
       "    <tr>\n",
       "      <th>15</th>\n",
       "      <td>37694.66</td>\n",
       "      <td>0.0</td>\n",
       "    </tr>\n",
       "    <tr>\n",
       "      <th>16</th>\n",
       "      <td>37712.25</td>\n",
       "      <td>0.0</td>\n",
       "    </tr>\n",
       "    <tr>\n",
       "      <th>17</th>\n",
       "      <td>37719.86</td>\n",
       "      <td>0.0</td>\n",
       "    </tr>\n",
       "    <tr>\n",
       "      <th>18</th>\n",
       "      <td>37714.24</td>\n",
       "      <td>0.0</td>\n",
       "    </tr>\n",
       "    <tr>\n",
       "      <th>19</th>\n",
       "      <td>37714.25</td>\n",
       "      <td>0.0</td>\n",
       "    </tr>\n",
       "    <tr>\n",
       "      <th>20</th>\n",
       "      <td>37712.20</td>\n",
       "      <td>-1.0</td>\n",
       "    </tr>\n",
       "    <tr>\n",
       "      <th>21</th>\n",
       "      <td>37712.19</td>\n",
       "      <td>-1.0</td>\n",
       "    </tr>\n",
       "    <tr>\n",
       "      <th>22</th>\n",
       "      <td>37721.51</td>\n",
       "      <td>-1.0</td>\n",
       "    </tr>\n",
       "    <tr>\n",
       "      <th>23</th>\n",
       "      <td>37721.51</td>\n",
       "      <td>-1.0</td>\n",
       "    </tr>\n",
       "    <tr>\n",
       "      <th>24</th>\n",
       "      <td>37721.51</td>\n",
       "      <td>-1.0</td>\n",
       "    </tr>\n",
       "    <tr>\n",
       "      <th>25</th>\n",
       "      <td>37721.51</td>\n",
       "      <td>-1.0</td>\n",
       "    </tr>\n",
       "    <tr>\n",
       "      <th>26</th>\n",
       "      <td>37721.65</td>\n",
       "      <td>-1.0</td>\n",
       "    </tr>\n",
       "    <tr>\n",
       "      <th>27</th>\n",
       "      <td>37713.04</td>\n",
       "      <td>0.0</td>\n",
       "    </tr>\n",
       "    <tr>\n",
       "      <th>28</th>\n",
       "      <td>37713.05</td>\n",
       "      <td>0.0</td>\n",
       "    </tr>\n",
       "    <tr>\n",
       "      <th>29</th>\n",
       "      <td>37713.05</td>\n",
       "      <td>0.0</td>\n",
       "    </tr>\n",
       "    <tr>\n",
       "      <th>30</th>\n",
       "      <td>37703.48</td>\n",
       "      <td>0.0</td>\n",
       "    </tr>\n",
       "  </tbody>\n",
       "</table>\n",
       "</div>"
      ],
      "text/plain": [
       "       close  bollinger_signal\n",
       "0   37666.35               0.0\n",
       "1   37669.53               0.0\n",
       "2   37669.33               0.0\n",
       "3   37686.75               0.0\n",
       "4   37690.71               0.0\n",
       "5   37699.00               0.0\n",
       "6   37694.65               0.0\n",
       "7   37694.66               0.0\n",
       "8   37694.66               0.0\n",
       "9   37694.66               0.0\n",
       "10  37696.00               0.0\n",
       "11  37700.74               0.0\n",
       "12  37696.01               0.0\n",
       "13  37696.37               0.0\n",
       "14  37696.42               0.0\n",
       "15  37694.66               0.0\n",
       "16  37712.25               0.0\n",
       "17  37719.86               0.0\n",
       "18  37714.24               0.0\n",
       "19  37714.25               0.0\n",
       "20  37712.20              -1.0\n",
       "21  37712.19              -1.0\n",
       "22  37721.51              -1.0\n",
       "23  37721.51              -1.0\n",
       "24  37721.51              -1.0\n",
       "25  37721.51              -1.0\n",
       "26  37721.65              -1.0\n",
       "27  37713.04               0.0\n",
       "28  37713.05               0.0\n",
       "29  37713.05               0.0\n",
       "30  37703.48               0.0"
      ]
     },
     "execution_count": 24,
     "metadata": {},
     "output_type": "execute_result"
    }
   ],
   "source": [
    "financials_df"
   ]
  },
  {
   "cell_type": "code",
   "execution_count": 32,
   "id": "ceecf332-f693-484d-b307-cd571f44f0c4",
   "metadata": {},
   "outputs": [],
   "source": [
    "def order(side, quantity, symbol, order_type=ORDER_TYPE_MARKET):\n",
    "    try:\n",
    "        print(\"sending order\")\n",
    "        order = client.create_order(symbol=symbol, side=side, type=order_type, quantity=quantity)\n",
    "        #print(order)\n",
    "    except Exception as e:\n",
    "        #print(\"an exception occurred - {}\".format(e))\n",
    "        return False, e\n",
    "        #return \"an exception occurred\"\n",
    "\n",
    "    return True, order\n",
    "    #return order"
   ]
  },
  {
   "cell_type": "code",
   "execution_count": 39,
   "id": "39de68d5-735c-4e4f-ad28-70b29d57971a",
   "metadata": {},
   "outputs": [
    {
     "name": "stdout",
     "output_type": "stream",
     "text": [
      "sending order\n"
     ]
    }
   ],
   "source": [
    "if financials_df['bollinger_signal'].iloc[-1] > 0:\n",
    "    order('buy', '0.001', 'BTCUSDT')\n",
    "elif financials_df['bollinger_signal'].iloc[-1] < 0:\n",
    "    order('sell', '0.001', 'BTCUSDT')\n",
    "else:\n",
    "    print('hold')"
   ]
  },
  {
   "cell_type": "code",
   "execution_count": null,
   "id": "1ec85828-792e-4e76-a964-05344cf2dce0",
   "metadata": {},
   "outputs": [],
   "source": []
  },
  {
   "cell_type": "code",
   "execution_count": 43,
   "id": "37a5663f-9818-4df4-a4cb-24102ead647b",
   "metadata": {},
   "outputs": [
    {
     "data": {
      "text/plain": [
       "{'makerCommission': 0,\n",
       " 'takerCommission': 0,\n",
       " 'buyerCommission': 0,\n",
       " 'sellerCommission': 0,\n",
       " 'canTrade': True,\n",
       " 'canWithdraw': False,\n",
       " 'canDeposit': False,\n",
       " 'updateTime': 1627346625501,\n",
       " 'accountType': 'SPOT',\n",
       " 'balances': [{'asset': 'BNB',\n",
       "   'free': '1000.00000000',\n",
       "   'locked': '0.00000000'},\n",
       "  {'asset': 'BTC', 'free': '1.20640900', 'locked': '0.00000000'},\n",
       "  {'asset': 'BUSD', 'free': '10000.00000000', 'locked': '0.00000000'},\n",
       "  {'asset': 'ETH', 'free': '101.00000000', 'locked': '0.00000000'},\n",
       "  {'asset': 'LTC', 'free': '500.00000000', 'locked': '0.00000000'},\n",
       "  {'asset': 'TRX', 'free': '500000.00000000', 'locked': '0.00000000'},\n",
       "  {'asset': 'USDT', 'free': '2263.04887274', 'locked': '0.00000000'},\n",
       "  {'asset': 'XRP', 'free': '50000.00000000', 'locked': '0.00000000'}],\n",
       " 'permissions': ['SPOT']}"
      ]
     },
     "execution_count": 43,
     "metadata": {},
     "output_type": "execute_result"
    }
   ],
   "source": [
    "# current BTC balance = 1.20840900\n",
    "client.get_account()"
   ]
  },
  {
   "cell_type": "code",
   "execution_count": null,
   "id": "acf11c37-5cd2-4a9c-a2cb-203421d7d39c",
   "metadata": {},
   "outputs": [],
   "source": []
  }
 ],
 "metadata": {
  "kernelspec": {
   "display_name": "Python 3 (ipykernel)",
   "language": "python",
   "name": "python3"
  },
  "language_info": {
   "codemirror_mode": {
    "name": "ipython",
    "version": 3
   },
   "file_extension": ".py",
   "mimetype": "text/x-python",
   "name": "python",
   "nbconvert_exporter": "python",
   "pygments_lexer": "ipython3",
   "version": "3.9.5"
  }
 },
 "nbformat": 4,
 "nbformat_minor": 5
}

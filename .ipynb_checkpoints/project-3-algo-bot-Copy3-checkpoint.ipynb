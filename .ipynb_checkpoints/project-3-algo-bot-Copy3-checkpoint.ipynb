{
 "cells": [
  {
   "cell_type": "code",
   "execution_count": 1,
   "id": "57db8f8c-8d52-4f6e-8aee-df61edade3d2",
   "metadata": {},
   "outputs": [
    {
     "data": {
      "text/plain": [
       "'\\nTo Do:\\n- Switch Bollinger calculation to TA Lib\\n- Add RSI Indicator\\n- Create transaction output sentence for trade log\\n- Improve Bollinger Signal sophistication - capture velocity change (nice to have)\\n- Determine best buy/sell thresholds (BUY_THRESHOLD, SELL_THRESHOLD)\\n- Check if we need financials_df defined as global variable\\n- Figure out how to handle orders executing in multiple parts\\n- Update get_asset_pair function with any new asset pairs\\n'"
      ]
     },
     "execution_count": 1,
     "metadata": {},
     "output_type": "execute_result"
    }
   ],
   "source": [
    "\"\"\"\n",
    "To Do:\n",
    "- Switch Bollinger calculation to TA Lib\n",
    "- Add RSI Indicator\n",
    "- Create transaction output sentence for trade log\n",
    "- Improve Bollinger Signal sophistication - capture velocity change (nice to have)\n",
    "- Determine best buy/sell thresholds (BUY_THRESHOLD, SELL_THRESHOLD)\n",
    "- Check if we need financials_df defined as global variable\n",
    "- Figure out how to handle orders executing in multiple parts\n",
    "- Update get_asset_pair function with any new asset pairs\n",
    "\"\"\""
   ]
  },
  {
   "cell_type": "code",
   "execution_count": 2,
   "id": "c181d5da-29a1-4ce5-ae3c-7f14f769629b",
   "metadata": {},
   "outputs": [],
   "source": [
    "import websocket\n",
    "import json\n",
    "import pprint\n",
    "import talib\n",
    "import numpy as np\n",
    "import config\n",
    "import pandas as pd\n",
    "import tkinter as tk\n",
    "# import binance\n",
    "from talib import MA_Type\n",
    "from binance.client import Client\n",
    "from binance.client import *\n",
    "from binance.enums import *\n",
    "from threading import *\n",
    "from tk import *\n",
    "from websocket import *"
   ]
  },
  {
   "cell_type": "code",
   "execution_count": 3,
   "id": "11177bc0-d91e-410b-8895-8284303e21e3",
   "metadata": {},
   "outputs": [],
   "source": [
    "# Constants\n",
    "SOCKET = \"wss://stream.binance.com:9443/ws/btcusdt@miniTicker\"\n",
    "BOLLINGER_WINDOW = 10\n",
    "BOLLINGER_WEIGHT = 1\n",
    "WHALE_WEIGHT = 0\n",
    "BUY_THRESHOLD = 1\n",
    "SELL_THRESHOLD = -1\n",
    "COOLDOWN_WINDOW = 0\n",
    "BUY = 1\n",
    "HOLD = 0\n",
    "SELL = -1\n",
    "TRADE_QUANTITY = 0.001\n",
    "#TRADE_QUANTITY = 0.01 * float(client.get_asset_balance(asset='BTC')['free'])\n",
    "\n",
    "SYMBOL = 'BTCUSDT'\n",
    "ORDER_TYPE = ORDER_TYPE_MARKET\n",
    "MA_TYPE = 2 #Simple MA"
   ]
  },
  {
   "cell_type": "code",
   "execution_count": 4,
   "id": "3ee839cb-759d-4e20-b2c3-73c0c5e53f94",
   "metadata": {},
   "outputs": [],
   "source": [
    "# BinanceAPIManager.get_fee()"
   ]
  },
  {
   "cell_type": "code",
   "execution_count": 6,
   "id": "a88bfdd3-06b6-4d3c-951c-2dc1420c22b1",
   "metadata": {},
   "outputs": [
    {
     "ename": "BinanceAPIException",
     "evalue": "APIError(code=-1003): Way too much request weight used; IP banned until 1628296493835. Please use the websocket for live updates to avoid bans.",
     "output_type": "error",
     "traceback": [
      "\u001b[0;31m---------------------------------------------------------------------------\u001b[0m",
      "\u001b[0;31mBinanceAPIException\u001b[0m                       Traceback (most recent call last)",
      "\u001b[0;32m/var/folders/fl/1qjty_fx2s79p6rtm25x0mnh0000gn/T/ipykernel_38723/533899214.py\u001b[0m in \u001b[0;36m<module>\u001b[0;34m\u001b[0m\n\u001b[1;32m      1\u001b[0m \u001b[0;31m# Global Variables\u001b[0m\u001b[0;34m\u001b[0m\u001b[0;34m\u001b[0m\u001b[0;34m\u001b[0m\u001b[0m\n\u001b[0;32m----> 2\u001b[0;31m \u001b[0mclient\u001b[0m \u001b[0;34m=\u001b[0m \u001b[0mClient\u001b[0m\u001b[0;34m(\u001b[0m\u001b[0mconfig\u001b[0m\u001b[0;34m.\u001b[0m\u001b[0mAPI_KEY\u001b[0m\u001b[0;34m,\u001b[0m \u001b[0mconfig\u001b[0m\u001b[0;34m.\u001b[0m\u001b[0mAPI_SECRET\u001b[0m\u001b[0;34m,\u001b[0m \u001b[0mtestnet\u001b[0m \u001b[0;34m=\u001b[0m \u001b[0;32mTrue\u001b[0m\u001b[0;34m)\u001b[0m\u001b[0;34m\u001b[0m\u001b[0;34m\u001b[0m\u001b[0m\n\u001b[0m\u001b[1;32m      3\u001b[0m \u001b[0mfinancials_df\u001b[0m \u001b[0;34m=\u001b[0m \u001b[0mpd\u001b[0m\u001b[0;34m.\u001b[0m\u001b[0mDataFrame\u001b[0m\u001b[0;34m(\u001b[0m\u001b[0mcolumns\u001b[0m \u001b[0;34m=\u001b[0m \u001b[0;34m[\u001b[0m\u001b[0;34m'close'\u001b[0m\u001b[0;34m,\u001b[0m \u001b[0;34m'bollinger_signal'\u001b[0m\u001b[0;34m,\u001b[0m \u001b[0;34m'whale_signal'\u001b[0m\u001b[0;34m,\u001b[0m \u001b[0;34m'weighted_signal'\u001b[0m\u001b[0;34m,\u001b[0m \u001b[0;34m'trade_decision'\u001b[0m\u001b[0;34m]\u001b[0m\u001b[0;34m)\u001b[0m\u001b[0;34m\u001b[0m\u001b[0;34m\u001b[0m\u001b[0m\n\u001b[1;32m      4\u001b[0m \u001b[0mcooldown_counter_buy\u001b[0m \u001b[0;34m=\u001b[0m \u001b[0;36m0\u001b[0m\u001b[0;34m\u001b[0m\u001b[0;34m\u001b[0m\u001b[0m\n\u001b[1;32m      5\u001b[0m \u001b[0mcooldown_counter_sell\u001b[0m \u001b[0;34m=\u001b[0m \u001b[0;36m0\u001b[0m\u001b[0;34m\u001b[0m\u001b[0;34m\u001b[0m\u001b[0m\n",
      "\u001b[0;32m~/miniforge3/lib/python3.9/site-packages/binance/client.py\u001b[0m in \u001b[0;36m__init__\u001b[0;34m(self, api_key, api_secret, requests_params, tld, testnet)\u001b[0m\n\u001b[1;32m    298\u001b[0m \u001b[0;34m\u001b[0m\u001b[0m\n\u001b[1;32m    299\u001b[0m         \u001b[0;31m# init DNS and SSL cert\u001b[0m\u001b[0;34m\u001b[0m\u001b[0;34m\u001b[0m\u001b[0;34m\u001b[0m\u001b[0m\n\u001b[0;32m--> 300\u001b[0;31m         \u001b[0mself\u001b[0m\u001b[0;34m.\u001b[0m\u001b[0mping\u001b[0m\u001b[0;34m(\u001b[0m\u001b[0;34m)\u001b[0m\u001b[0;34m\u001b[0m\u001b[0;34m\u001b[0m\u001b[0m\n\u001b[0m\u001b[1;32m    301\u001b[0m \u001b[0;34m\u001b[0m\u001b[0m\n\u001b[1;32m    302\u001b[0m     \u001b[0;32mdef\u001b[0m \u001b[0m_init_session\u001b[0m\u001b[0;34m(\u001b[0m\u001b[0mself\u001b[0m\u001b[0;34m)\u001b[0m \u001b[0;34m->\u001b[0m \u001b[0mrequests\u001b[0m\u001b[0;34m.\u001b[0m\u001b[0mSession\u001b[0m\u001b[0;34m:\u001b[0m\u001b[0;34m\u001b[0m\u001b[0;34m\u001b[0m\u001b[0m\n",
      "\u001b[0;32m~/miniforge3/lib/python3.9/site-packages/binance/client.py\u001b[0m in \u001b[0;36mping\u001b[0;34m(self)\u001b[0m\n\u001b[1;32m    524\u001b[0m \u001b[0;34m\u001b[0m\u001b[0m\n\u001b[1;32m    525\u001b[0m         \"\"\"\n\u001b[0;32m--> 526\u001b[0;31m         \u001b[0;32mreturn\u001b[0m \u001b[0mself\u001b[0m\u001b[0;34m.\u001b[0m\u001b[0m_get\u001b[0m\u001b[0;34m(\u001b[0m\u001b[0;34m'ping'\u001b[0m\u001b[0;34m,\u001b[0m \u001b[0mversion\u001b[0m\u001b[0;34m=\u001b[0m\u001b[0mself\u001b[0m\u001b[0;34m.\u001b[0m\u001b[0mPRIVATE_API_VERSION\u001b[0m\u001b[0;34m)\u001b[0m\u001b[0;34m\u001b[0m\u001b[0;34m\u001b[0m\u001b[0m\n\u001b[0m\u001b[1;32m    527\u001b[0m \u001b[0;34m\u001b[0m\u001b[0m\n\u001b[1;32m    528\u001b[0m     \u001b[0;32mdef\u001b[0m \u001b[0mget_server_time\u001b[0m\u001b[0;34m(\u001b[0m\u001b[0mself\u001b[0m\u001b[0;34m)\u001b[0m \u001b[0;34m->\u001b[0m \u001b[0mDict\u001b[0m\u001b[0;34m:\u001b[0m\u001b[0;34m\u001b[0m\u001b[0;34m\u001b[0m\u001b[0m\n",
      "\u001b[0;32m~/miniforge3/lib/python3.9/site-packages/binance/client.py\u001b[0m in \u001b[0;36m_get\u001b[0;34m(self, path, signed, version, **kwargs)\u001b[0m\n\u001b[1;32m    369\u001b[0m \u001b[0;34m\u001b[0m\u001b[0m\n\u001b[1;32m    370\u001b[0m     \u001b[0;32mdef\u001b[0m \u001b[0m_get\u001b[0m\u001b[0;34m(\u001b[0m\u001b[0mself\u001b[0m\u001b[0;34m,\u001b[0m \u001b[0mpath\u001b[0m\u001b[0;34m,\u001b[0m \u001b[0msigned\u001b[0m\u001b[0;34m=\u001b[0m\u001b[0;32mFalse\u001b[0m\u001b[0;34m,\u001b[0m \u001b[0mversion\u001b[0m\u001b[0;34m=\u001b[0m\u001b[0mBaseClient\u001b[0m\u001b[0;34m.\u001b[0m\u001b[0mPUBLIC_API_VERSION\u001b[0m\u001b[0;34m,\u001b[0m \u001b[0;34m**\u001b[0m\u001b[0mkwargs\u001b[0m\u001b[0;34m)\u001b[0m\u001b[0;34m:\u001b[0m\u001b[0;34m\u001b[0m\u001b[0;34m\u001b[0m\u001b[0m\n\u001b[0;32m--> 371\u001b[0;31m         \u001b[0;32mreturn\u001b[0m \u001b[0mself\u001b[0m\u001b[0;34m.\u001b[0m\u001b[0m_request_api\u001b[0m\u001b[0;34m(\u001b[0m\u001b[0;34m'get'\u001b[0m\u001b[0;34m,\u001b[0m \u001b[0mpath\u001b[0m\u001b[0;34m,\u001b[0m \u001b[0msigned\u001b[0m\u001b[0;34m,\u001b[0m \u001b[0mversion\u001b[0m\u001b[0;34m,\u001b[0m \u001b[0;34m**\u001b[0m\u001b[0mkwargs\u001b[0m\u001b[0;34m)\u001b[0m\u001b[0;34m\u001b[0m\u001b[0;34m\u001b[0m\u001b[0m\n\u001b[0m\u001b[1;32m    372\u001b[0m \u001b[0;34m\u001b[0m\u001b[0m\n\u001b[1;32m    373\u001b[0m     \u001b[0;32mdef\u001b[0m \u001b[0m_post\u001b[0m\u001b[0;34m(\u001b[0m\u001b[0mself\u001b[0m\u001b[0;34m,\u001b[0m \u001b[0mpath\u001b[0m\u001b[0;34m,\u001b[0m \u001b[0msigned\u001b[0m\u001b[0;34m=\u001b[0m\u001b[0;32mFalse\u001b[0m\u001b[0;34m,\u001b[0m \u001b[0mversion\u001b[0m\u001b[0;34m=\u001b[0m\u001b[0mBaseClient\u001b[0m\u001b[0;34m.\u001b[0m\u001b[0mPUBLIC_API_VERSION\u001b[0m\u001b[0;34m,\u001b[0m \u001b[0;34m**\u001b[0m\u001b[0mkwargs\u001b[0m\u001b[0;34m)\u001b[0m \u001b[0;34m->\u001b[0m \u001b[0mDict\u001b[0m\u001b[0;34m:\u001b[0m\u001b[0;34m\u001b[0m\u001b[0;34m\u001b[0m\u001b[0m\n",
      "\u001b[0;32m~/miniforge3/lib/python3.9/site-packages/binance/client.py\u001b[0m in \u001b[0;36m_request_api\u001b[0;34m(self, method, path, signed, version, **kwargs)\u001b[0m\n\u001b[1;32m    332\u001b[0m     ):\n\u001b[1;32m    333\u001b[0m         \u001b[0muri\u001b[0m \u001b[0;34m=\u001b[0m \u001b[0mself\u001b[0m\u001b[0;34m.\u001b[0m\u001b[0m_create_api_uri\u001b[0m\u001b[0;34m(\u001b[0m\u001b[0mpath\u001b[0m\u001b[0;34m,\u001b[0m \u001b[0msigned\u001b[0m\u001b[0;34m,\u001b[0m \u001b[0mversion\u001b[0m\u001b[0;34m)\u001b[0m\u001b[0;34m\u001b[0m\u001b[0;34m\u001b[0m\u001b[0m\n\u001b[0;32m--> 334\u001b[0;31m         \u001b[0;32mreturn\u001b[0m \u001b[0mself\u001b[0m\u001b[0;34m.\u001b[0m\u001b[0m_request\u001b[0m\u001b[0;34m(\u001b[0m\u001b[0mmethod\u001b[0m\u001b[0;34m,\u001b[0m \u001b[0muri\u001b[0m\u001b[0;34m,\u001b[0m \u001b[0msigned\u001b[0m\u001b[0;34m,\u001b[0m \u001b[0;34m**\u001b[0m\u001b[0mkwargs\u001b[0m\u001b[0;34m)\u001b[0m\u001b[0;34m\u001b[0m\u001b[0;34m\u001b[0m\u001b[0m\n\u001b[0m\u001b[1;32m    335\u001b[0m \u001b[0;34m\u001b[0m\u001b[0m\n\u001b[1;32m    336\u001b[0m     \u001b[0;32mdef\u001b[0m \u001b[0m_request_futures_api\u001b[0m\u001b[0;34m(\u001b[0m\u001b[0mself\u001b[0m\u001b[0;34m,\u001b[0m \u001b[0mmethod\u001b[0m\u001b[0;34m,\u001b[0m \u001b[0mpath\u001b[0m\u001b[0;34m,\u001b[0m \u001b[0msigned\u001b[0m\u001b[0;34m=\u001b[0m\u001b[0;32mFalse\u001b[0m\u001b[0;34m,\u001b[0m \u001b[0;34m**\u001b[0m\u001b[0mkwargs\u001b[0m\u001b[0;34m)\u001b[0m \u001b[0;34m->\u001b[0m \u001b[0mDict\u001b[0m\u001b[0;34m:\u001b[0m\u001b[0;34m\u001b[0m\u001b[0;34m\u001b[0m\u001b[0m\n",
      "\u001b[0;32m~/miniforge3/lib/python3.9/site-packages/binance/client.py\u001b[0m in \u001b[0;36m_request\u001b[0;34m(self, method, uri, signed, force_params, **kwargs)\u001b[0m\n\u001b[1;32m    313\u001b[0m \u001b[0;34m\u001b[0m\u001b[0m\n\u001b[1;32m    314\u001b[0m         \u001b[0mself\u001b[0m\u001b[0;34m.\u001b[0m\u001b[0mresponse\u001b[0m \u001b[0;34m=\u001b[0m \u001b[0mgetattr\u001b[0m\u001b[0;34m(\u001b[0m\u001b[0mself\u001b[0m\u001b[0;34m.\u001b[0m\u001b[0msession\u001b[0m\u001b[0;34m,\u001b[0m \u001b[0mmethod\u001b[0m\u001b[0;34m)\u001b[0m\u001b[0;34m(\u001b[0m\u001b[0muri\u001b[0m\u001b[0;34m,\u001b[0m \u001b[0;34m**\u001b[0m\u001b[0mkwargs\u001b[0m\u001b[0;34m)\u001b[0m\u001b[0;34m\u001b[0m\u001b[0;34m\u001b[0m\u001b[0m\n\u001b[0;32m--> 315\u001b[0;31m         \u001b[0;32mreturn\u001b[0m \u001b[0mself\u001b[0m\u001b[0;34m.\u001b[0m\u001b[0m_handle_response\u001b[0m\u001b[0;34m(\u001b[0m\u001b[0mself\u001b[0m\u001b[0;34m.\u001b[0m\u001b[0mresponse\u001b[0m\u001b[0;34m)\u001b[0m\u001b[0;34m\u001b[0m\u001b[0;34m\u001b[0m\u001b[0m\n\u001b[0m\u001b[1;32m    316\u001b[0m \u001b[0;34m\u001b[0m\u001b[0m\n\u001b[1;32m    317\u001b[0m     \u001b[0;34m@\u001b[0m\u001b[0mstaticmethod\u001b[0m\u001b[0;34m\u001b[0m\u001b[0;34m\u001b[0m\u001b[0m\n",
      "\u001b[0;32m~/miniforge3/lib/python3.9/site-packages/binance/client.py\u001b[0m in \u001b[0;36m_handle_response\u001b[0;34m(response)\u001b[0m\n\u001b[1;32m    322\u001b[0m         \"\"\"\n\u001b[1;32m    323\u001b[0m         \u001b[0;32mif\u001b[0m \u001b[0;32mnot\u001b[0m \u001b[0;34m(\u001b[0m\u001b[0;36m200\u001b[0m \u001b[0;34m<=\u001b[0m \u001b[0mresponse\u001b[0m\u001b[0;34m.\u001b[0m\u001b[0mstatus_code\u001b[0m \u001b[0;34m<\u001b[0m \u001b[0;36m300\u001b[0m\u001b[0;34m)\u001b[0m\u001b[0;34m:\u001b[0m\u001b[0;34m\u001b[0m\u001b[0;34m\u001b[0m\u001b[0m\n\u001b[0;32m--> 324\u001b[0;31m             \u001b[0;32mraise\u001b[0m \u001b[0mBinanceAPIException\u001b[0m\u001b[0;34m(\u001b[0m\u001b[0mresponse\u001b[0m\u001b[0;34m,\u001b[0m \u001b[0mresponse\u001b[0m\u001b[0;34m.\u001b[0m\u001b[0mstatus_code\u001b[0m\u001b[0;34m,\u001b[0m \u001b[0mresponse\u001b[0m\u001b[0;34m.\u001b[0m\u001b[0mtext\u001b[0m\u001b[0;34m)\u001b[0m\u001b[0;34m\u001b[0m\u001b[0;34m\u001b[0m\u001b[0m\n\u001b[0m\u001b[1;32m    325\u001b[0m         \u001b[0;32mtry\u001b[0m\u001b[0;34m:\u001b[0m\u001b[0;34m\u001b[0m\u001b[0;34m\u001b[0m\u001b[0m\n\u001b[1;32m    326\u001b[0m             \u001b[0;32mreturn\u001b[0m \u001b[0mresponse\u001b[0m\u001b[0;34m.\u001b[0m\u001b[0mjson\u001b[0m\u001b[0;34m(\u001b[0m\u001b[0;34m)\u001b[0m\u001b[0;34m\u001b[0m\u001b[0;34m\u001b[0m\u001b[0m\n",
      "\u001b[0;31mBinanceAPIException\u001b[0m: APIError(code=-1003): Way too much request weight used; IP banned until 1628296493835. Please use the websocket for live updates to avoid bans."
     ]
    }
   ],
   "source": [
    "# Global Variables\n",
    "client = Client(config.API_KEY, config.API_SECRET, testnet = True)\n",
    "financials_df = pd.DataFrame(columns = ['close', 'bollinger_signal', 'whale_signal', 'weighted_signal', 'trade_decision'])\n",
    "cooldown_counter_buy = 0\n",
    "cooldown_counter_sell = 0"
   ]
  },
  {
   "cell_type": "code",
   "execution_count": null,
   "id": "9b5b55cb-4fe9-4571-b216-c2e74a39858c",
   "metadata": {},
   "outputs": [],
   "source": [
    "# Creating Bollinger Signal\n",
    "def get_bollinger_signal(historical_close):\n",
    "    upper, middle, lower = talib.BBANDS(historical_close, timeperiod=BOLLINGER_WINDOW, matype=MA_TYPE)\n",
    "    if historical_close[-1] < lower[-1]:\n",
    "        bollinger_long = 1\n",
    "    else:\n",
    "        bollinger_long = 0\n",
    "    if historical_close[-1] > upper[-1]:\n",
    "        bollinger_short = -1\n",
    "    else:\n",
    "        bollinger_short = 0\n",
    "    bollinger_signal = bollinger_long + bollinger_short\n",
    "    return bollinger_signal"
   ]
  },
  {
   "cell_type": "code",
   "execution_count": null,
   "id": "464855fc-9284-4dd7-9446-aa78603c118a",
   "metadata": {},
   "outputs": [],
   "source": [
    "# Creating Weighted Signal\n",
    "def get_weighted_signal(signal_values, signal_weights):\n",
    "    signal_weighted_avg = np.average(signal_values, weights=signal_weights)\n",
    "    \n",
    "    if signal_weighted_avg >= BUY_THRESHOLD:\n",
    "        weighted_signal = BUY\n",
    "    elif signal_weighted_avg <= SELL_THRESHOLD:\n",
    "        weighted_signal = SELL\n",
    "    else:\n",
    "        weighted_signal = HOLD\n",
    "\n",
    "    return weighted_signal"
   ]
  },
  {
   "cell_type": "code",
   "execution_count": null,
   "id": "44e6e648-101d-4901-bc24-2267451dbcef",
   "metadata": {},
   "outputs": [],
   "source": [
    "# Creating Trade Decision\n",
    "def get_trade_decision(current_signal):\n",
    "    #global financials_df\n",
    "    global cooldown_counter_buy\n",
    "    global cooldown_counter_sell\n",
    "    print('current signal is ', current_signal)\n",
    "    print('buy cooldown counter is ')\n",
    "    print(cooldown_counter_buy)\n",
    "    print('sell cooldown counter is' )\n",
    "    print(cooldown_counter_sell)\n",
    "    trade_decision = 'hold'\n",
    "    if current_signal == 1:\n",
    "        if cooldown_counter_buy == 0:\n",
    "            trade_decision = 'buy'\n",
    "            cooldown_counter_buy = COOLDOWN_WINDOW\n",
    "            cooldown_counter_sell = 0\n",
    "            success, order_details = order('buy', TRADE_QUANTITY, SYMBOL, order_type=ORDER_TYPE)\n",
    "            print(\"Success: \", success)\n",
    "            #print(success)\n",
    "            print(\"Order Details: \", order_details)\n",
    "            print(order_details)\n",
    "        else:\n",
    "            cooldown_counter_buy -= 1\n",
    "    elif current_signal == -1:\n",
    "        if cooldown_counter_sell == 0:\n",
    "            trade_decision = 'sell'\n",
    "            cooldown_counter_sell = COOLDOWN_WINDOW\n",
    "            cooldown_counter_buy = 0\n",
    "            success, order_details = order('sell', TRADE_QUANTITY, SYMBOL, order_type=ORDER_TYPE)\n",
    "            print(\"Success: \", success)\n",
    "            #print(success)\n",
    "            print(\"Order Details: \", order_details)\n",
    "            print(order_details)\n",
    "        else:\n",
    "            cooldown_counter_sell -= 1\n",
    "    else: #current_signal == 0:\n",
    "        if cooldown_counter_buy > 0:\n",
    "            cooldown_counter_buy -=1\n",
    "        if cooldown_counter_sell > 0:\n",
    "            cooldown_counter_sell -=1\n",
    "            \n",
    "    return trade_decision\n",
    "            "
   ]
  },
  {
   "cell_type": "code",
   "execution_count": null,
   "id": "e816dea7-75f9-41c8-9f96-44854556f6f5",
   "metadata": {},
   "outputs": [],
   "source": [
    "# Storing initial BTC and USDT Profit/Los variables\n",
    "initial_balance_btc = float(client.get_asset_balance(asset='BTC')['free'])\n",
    "initial_balance_usdt = float(client.get_asset_balance(asset='USDT')['free'])"
   ]
  },
  {
   "cell_type": "code",
   "execution_count": null,
   "id": "f656cf99-c4a1-46a0-9695-0e472a4372e2",
   "metadata": {},
   "outputs": [],
   "source": [
    "# Creating financials_df_builder\n",
    "def financials_df_builder(close):\n",
    "    #this function's purpose is to append the latest information to the financials_df\n",
    "    global financials_df\n",
    "    global initial_balance_btc\n",
    "    global initial_balance_usdt\n",
    "    signal_values = []\n",
    "    signal_weights = []\n",
    "    \n",
    "    # Bollinger Signal and Weight\n",
    "    bollinger_signal = 0\n",
    "    if len(financials_df) >= BOLLINGER_WINDOW:\n",
    "        bollinger_signal = get_bollinger_signal(financials_df['close'].values.astype(float))\n",
    "    signal_values.append(bollinger_signal)\n",
    "    signal_weights.append(BOLLINGER_WEIGHT)\n",
    "    \n",
    "    # Whale Signal and Weight\n",
    "    whale_signal = 0\n",
    "    signal_values.append(whale_signal)\n",
    "    signal_weights.append(WHALE_WEIGHT)\n",
    "    \n",
    "    # Get overall weighted signal\n",
    "    weighted_signal = get_weighted_signal(signal_values, signal_weights)\n",
    "    \n",
    "    # Trade Decision\n",
    "    trade_decision = get_trade_decision(weighted_signal)\n",
    "    \n",
    "    # BTC Balance\n",
    "    balance_btc = float(client.get_asset_balance(asset='BTC')['free'])\n",
    "    \n",
    "    # USDT Balance\n",
    "    balance_usdt = float(client.get_asset_balance(asset='USDT')['free'])\n",
    "    \n",
    "    # Delta BTC\n",
    "    final_balance_btc = float(client.get_asset_balance(asset='BTC')['free'])\n",
    "    delta_balance_btc = final_balance_btc - initial_balance_btc\n",
    "    \n",
    "    # Delta USDT\n",
    "    final_balance_usdt = float(client.get_asset_balance(asset='USDT')['free'])\n",
    "    delta_balance_usdt = final_balance_usdt - initial_balance_usdt\n",
    "    # Trade Log\n",
    "    \n",
    "    # Appending financials_df\n",
    "    financials_df = financials_df.append({'close' : close, 'balance_btc' : balance_btc, 'delta_btc' : delta_balance_btc, 'balance_usdt' : balance_usdt, 'delta_usdt' : delta_balance_usdt, 'bollinger_signal' : bollinger_signal, 'whale_signal': whale_signal, 'weighted_signal' : weighted_signal, 'trade_decision' : trade_decision}, ignore_index = True)\n",
    "    \n",
    "    # Print Decision\n",
    "    #print(financials_df.iloc[-1])\n",
    "    return"
   ]
  },
  {
   "cell_type": "code",
   "execution_count": null,
   "id": "2f74e48b-f9cf-4040-b893-4188c25c9fa4",
   "metadata": {},
   "outputs": [],
   "source": [
    "def get_asset_pair(symbol):\n",
    "    currency1 = 'NA'\n",
    "    currency2 = 'NA'\n",
    "    if symbol == 'BTCUSDT':\n",
    "        currency1 = 'BTC'\n",
    "        currency2 = 'USDT'\n",
    "    return currency1, currency2"
   ]
  },
  {
   "cell_type": "code",
   "execution_count": null,
   "id": "ceecf332-f693-484d-b307-cd571f44f0c4",
   "metadata": {},
   "outputs": [],
   "source": [
    "# Creating Order\n",
    "def order(side, quantity, symbol, order_type=ORDER_TYPE_MARKET):\n",
    "    try:\n",
    "        order = client.create_order(symbol=symbol, side=side, type=order_type, quantity=quantity)\n",
    "    except Exception as e:\n",
    "        return False, e\n",
    "#     transactTime = order['transactTime']\n",
    "#     fills_qty = order['fills'][0]['qty']\n",
    "#     currency1, currency2 = get_asset_pair(symbol)\n",
    "#     fills_price = order['fills'][0]['price']\n",
    "#     print(datetime.fromtimestamp(int(timestamp)/1000))\n",
    "    return True, order"
   ]
  },
  {
   "cell_type": "code",
   "execution_count": null,
   "id": "03775ed7-1d8d-486e-ade0-b7d689655efc",
   "metadata": {},
   "outputs": [],
   "source": [
    "def get_usdt_balance():\n",
    "    balance_usdt = float(client.get_asset_balance(asset='USDT')['free'])\n",
    "    print(balance_usdt)\n",
    "    return"
   ]
  },
  {
   "cell_type": "code",
   "execution_count": null,
   "id": "f844ee69-cb80-418a-8f7a-98f8a5d5f2b4",
   "metadata": {},
   "outputs": [],
   "source": [
    "def get_btc_balance():\n",
    "    balance_btc = float(client.get_asset_balance(asset='BTC')['free'])\n",
    "    print(balance_btc)\n",
    "    return"
   ]
  },
  {
   "cell_type": "code",
   "execution_count": null,
   "id": "0a2c4005-a0da-4851-9a06-371c6fac4024",
   "metadata": {},
   "outputs": [],
   "source": [
    "def get_total_pl_in_usdt():\n",
    "    delta_balance_btc = get_btc_balance() - initial_balance_btc\n",
    "    delta_balance_btc_in_usdt = delta_balance_btc * financials_df['close'].iloc[-1]\n",
    "    delta_balance_usdt = get_usdt_balance() - initial_balance_usdt\n",
    "    total_pl_in_usdt = delta_balance_btc_in_usdt + delta_balance_usdt\n",
    "    print(total_pl_in_usdt)\n",
    "    return"
   ]
  },
  {
   "cell_type": "code",
   "execution_count": null,
   "id": "274dc307-1186-44a7-b1ed-f3f4fbf7f948",
   "metadata": {},
   "outputs": [],
   "source": [
    "#get_total_pl_in_usdt()"
   ]
  },
  {
   "cell_type": "code",
   "execution_count": null,
   "id": "1b7a682a-0aab-4e5d-9473-43e29ea7ed97",
   "metadata": {},
   "outputs": [],
   "source": [
    "#def get_trade_log():"
   ]
  },
  {
   "cell_type": "code",
   "execution_count": null,
   "id": "5709949d-b86b-4252-a3a2-3a9ea3713849",
   "metadata": {},
   "outputs": [],
   "source": [
    "# Creating on_message\n",
    "def on_message(ws, message):\n",
    "    json_message = json.loads(message)\n",
    "    close = json_message['c']\n",
    "    financials_df_builder(float(close))"
   ]
  },
  {
   "cell_type": "code",
   "execution_count": null,
   "id": "e8e54237-08d2-4c35-a514-6acfea6ce477",
   "metadata": {},
   "outputs": [],
   "source": [
    "# financials_df.tail()"
   ]
  },
  {
   "cell_type": "code",
   "execution_count": null,
   "id": "e8039b82-c1f6-4bc8-acdf-be585ac6a5e0",
   "metadata": {},
   "outputs": [],
   "source": [
    "# client.get_account()"
   ]
  },
  {
   "cell_type": "code",
   "execution_count": null,
   "id": "e32f8bf8-7423-41f4-8f44-4c3129a0a8fc",
   "metadata": {},
   "outputs": [],
   "source": [
    "# balance_btc_in_usdt = initial_balance_btc * financials_df['close'].iloc[-1]\n",
    "# print(balance_btc_in_usdt)"
   ]
  },
  {
   "cell_type": "code",
   "execution_count": null,
   "id": "e3dd4d3a-8198-4140-a395-1852de62d31d",
   "metadata": {},
   "outputs": [],
   "source": [
    "# # Calculating \n",
    "# print('BTC Profit/Loss: ', pl_btc)\n",
    "# print('USDT Profit/Loss: ', pl_usdt)"
   ]
  },
  {
   "cell_type": "code",
   "execution_count": null,
   "id": "4b196db6-7fea-439f-a496-7c5838404c0c",
   "metadata": {},
   "outputs": [],
   "source": [
    "# Running Bot\n",
    "def on_open(ws):\n",
    "    print('opened connection')\n",
    "def on_close(ws):\n",
    "    print('closed connection')"
   ]
  },
  {
   "cell_type": "code",
   "execution_count": null,
   "id": "a17a39d9-092e-4f5b-9be9-737671eb7372",
   "metadata": {},
   "outputs": [],
   "source": [
    "# def websocket_function():\n",
    "#     ws = websocket.WebSocketApp(SOCKET, on_open=on_open, on_close=on_close, on_message=on_message)\n",
    "#     wst = threading.Thread(target=ws.run_forever)\n",
    "#     wst.start()\n",
    "#     time.sleep(5)\n",
    "#     ws.keep_running = False\n",
    "#     wst.join()\n",
    "#     return wst"
   ]
  },
  {
   "cell_type": "code",
   "execution_count": null,
   "id": "78b3a52b-1280-41ca-8e2c-2c3f4ff98d83",
   "metadata": {},
   "outputs": [],
   "source": [
    "# websocket_function()"
   ]
  },
  {
   "cell_type": "code",
   "execution_count": null,
   "id": "aba4f4ed-53b6-4221-840c-e59744bf1f92",
   "metadata": {},
   "outputs": [],
   "source": [
    "ws = websocket.WebSocketApp(SOCKET, on_open=on_open, on_close=on_close, on_message=on_message)\n",
    "ws.run_forever()"
   ]
  },
  {
   "cell_type": "code",
   "execution_count": null,
   "id": "25762288-824b-409b-ba4c-764397633def",
   "metadata": {},
   "outputs": [],
   "source": [
    "# ws = websocket.WebSocketApp(SOCKET, on_open=on_open, on_close=on_close, on_message=on_message)\n"
   ]
  },
  {
   "cell_type": "code",
   "execution_count": null,
   "id": "bfe09c42-01d0-41b1-afd8-3e161d2ac027",
   "metadata": {},
   "outputs": [],
   "source": [
    "# # Expressing the total profit/loss in USDT\n",
    "# final_balance_btc = float(client.get_asset_balance(asset='BTC')['free'])\n",
    "# delta_balance_btc = final_balance_btc - initial_balance_btc\n",
    "# delta_balance_btc_in_usdt = delta_balance_btc * financials_df['close'].iloc[-1]\n",
    "\n",
    "# final_balance_usdt = float(client.get_asset_balance(asset='USDT')['free'])\n",
    "# delta_balance_usdt = final_balance_usdt - initial_balance_usdt\n",
    "\n",
    "# total_pl_in_usdt = delta_balance_btc_in_usdt + delta_balance_usdt\n",
    "\n",
    "# print('Initial BTC Balance: ', initial_balance_btc)\n",
    "# print('Final BTC Balance: ', final_balance_btc)\n",
    "# print('Delta BTC Balance: ', delta_balance_btc)\n",
    "# print('BTC to USDT price: ', financials_df['close'].iloc[-1])\n",
    "# print('Delta BTC Balance in USDT: ', delta_balance_btc_in_usdt)\n",
    "\n",
    "# print('Initial USDT Balance: ', initial_balance_usdt)\n",
    "# print('Final USDT Balance: ', final_balance_usdt)\n",
    "# print('Delta USDT Balance: ', delta_balance_usdt)\n",
    "\n",
    "# print('Profit/Loss expressed in USDT: ', total_pl_in_usdt)"
   ]
  },
  {
   "cell_type": "code",
   "execution_count": null,
   "id": "0d099bdf-f301-4709-9845-45e7dde9d0cf",
   "metadata": {},
   "outputs": [],
   "source": [
    "# financials_df"
   ]
  },
  {
   "cell_type": "code",
   "execution_count": null,
   "id": "a6ec0af1-82a0-4eac-976a-5a3dd1cf5540",
   "metadata": {},
   "outputs": [],
   "source": [
    "# root = tk.Tk()\n",
    "# root.geometry('500x500')\n",
    "# root.title(\"Bitcoin Genie 9000\")\n",
    "\n",
    "# label_0 = tk.Label(root, text=\"Bitcoin Genie 9000\",width=20,font=(\"bold\", 36))\n",
    "# label_0.place(x=-40,y=53)\n",
    "\n",
    "# # label_1 = tk.Label(root, text=financials_df['balance_btc'].iloc[-1],width=60,font=(\"bold\", 12))\n",
    "# # label_1.place(x=-20,y=110)\n",
    "\n",
    "# label_2 = tk.Label(root, text=\"DISCLAIMER: USE AT YOUR OWN RISK!\",width=60,font=(\"bold\", 12))\n",
    "# label_2.place(x=-20,y=450)\n",
    "\n",
    "# def button_press():\n",
    "#     label_response = tk.Text(root, height=3, width=50)\n",
    "#     label_response.pack()\n",
    "#     #label_response.insert(tk.END,\"\")\n",
    "#     label_response.config(state=\"disabled\")\n",
    "#     label_response.place(x=50,y=250)\n",
    "#     response = ws.run_forever()\n",
    "#     label_response.config(state=\"normal\")\n",
    "#     label_response.insert(tk.END,ws.run_forever())\n",
    "#     label_response.config(state=\"disabled\")\n",
    "\n",
    "# b1=tk.Button(root,text=\"Ask ME!\",font=(\"bold\", 20),height=2,width=10,bg='blue',fg='white', command=button_press)\n",
    "# b1.place(x=170,y=150)\n",
    "\n",
    "# # def update():\n",
    "# #     ws.run_forever()\n",
    "# #     label_1 = tk.Label(root, text=financials_df['balance_usdt'].iloc[-1],width=60,font=(\"bold\", 12))\n",
    "# #     label_1.place(x=-20,y=110)\n",
    "# #     root.after(1000,update)\n",
    "# # update()\n",
    "\n",
    "# tk.mainloop()"
   ]
  },
  {
   "cell_type": "code",
   "execution_count": null,
   "id": "38047283-0fe9-4f47-a20d-873ac3879e22",
   "metadata": {},
   "outputs": [],
   "source": [
    "# from tkinter import *\n",
    "# import time\n",
    "# #Create an instance of the canvas\n",
    "# win = Tk()\n",
    "\n",
    "# #Select the title of the window\n",
    "# win.title(\"tutorialspoint.com\")\n",
    "\n",
    "# #Define the geometry of the window\n",
    "# win.geometry(\"600x400\")\n",
    "# #Define the clock which\n",
    "# def clock():\n",
    "#    hh= time.strftime(\"%I\")\n",
    "#    mm= time.strftime(\"%M\")\n",
    "#    ss= time.strftime(\"%S\")\n",
    "#    day=time.strftime(\"%A\")\n",
    "#    ap=time.strftime(\"%p\")\n",
    "#    time_zone= time.strftime(\"%Z\")\n",
    "#    my_lab.config(text= financials_df['balance_usdt'].iloc[-1])\n",
    "#    my_lab.after(1000,clock)\n",
    "\n",
    "#    my_lab1.config(text=hh + \":\" + mm +\":\" + ss)\n",
    "# #Update the Time\n",
    "# def updateTime():\n",
    "#    my_lab.config(text= \"New Text\")\n",
    "\n",
    "# #Creating the label with text property of the clock\n",
    "# my_lab= Label(win,text= \"\",font=(\"sans-serif\", 56), fg= \"red\")\n",
    "# my_lab.pack(pady=20)\n",
    "# my_lab1= Label(win, text= \"\", font=(\"Helvetica\",20), fg= \"blue\")\n",
    "# my_lab1.pack(pady= 10)\n",
    "\n",
    "\n",
    "# # Define Button\n",
    "# def button_press():\n",
    "#     label_response = tk.Text(win, height=3, width=50)\n",
    "#     label_response.pack()\n",
    "#     #label_response.insert(tk.END,\"\")\n",
    "#     label_response.config(state=\"disabled\")\n",
    "#     label_response.place(x=50,y=250)\n",
    "#     response = t.start()\n",
    "#     label_response.config(state=\"normal\")\n",
    "#     label_response.insert(tk.END,t.start())\n",
    "#     label_response.config(state=\"disabled\")\n",
    "\n",
    "# b1=tk.Button(win,text=\"Ask ME!\",font=(\"bold\", 20),height=2,width=10,bg='blue',fg='white', command=button_press)\n",
    "# b1.place(x=170,y=150)\n",
    "\n",
    "# def connection():\n",
    "#    enableTrace(True)\n",
    "#    ws.run_forever()\n",
    "#    return\n",
    "\n",
    "# t = Thread(target=connection)\n",
    "# #t.start()\n",
    "\n",
    "# #master.mainloop()\n",
    "\n",
    "# #Calling the clock function\n",
    "# clock()\n",
    "# #Keep Running the window\n",
    "# win.mainloop()"
   ]
  },
  {
   "cell_type": "code",
   "execution_count": null,
   "id": "1c2a1032-8bff-4f02-b7ee-d2e89e60b061",
   "metadata": {},
   "outputs": [],
   "source": [
    "# from tkinter import *\n",
    "# import time\n",
    "# #Create an instance of the canvas\n",
    "# win = Tk()\n",
    "\n",
    "# #Select the title of the window\n",
    "# win.title(\"tutorialspoint.com\")\n",
    "\n",
    "# #Define the geometry of the window\n",
    "# win.geometry(\"600x400\")\n",
    "# #Define the clock which\n",
    "# def clock():\n",
    "#     hh= time.strftime(\"%I\")\n",
    "#     mm= time.strftime(\"%M\")\n",
    "#     ss= time.strftime(\"%S\")\n",
    "#     day=time.strftime(\"%A\")\n",
    "#     ap=time.strftime(\"%p\")\n",
    "#     time_zone= time.strftime(\"%Z\")\n",
    "#     my_lab.config(text= financials_df['balance_usdt'].iloc[-1])\n",
    "#     my_lab.after(1000,clock)\n",
    "# #     label_btc_balance.config(text= financials_df['balance_btc'].iloc[-1])\n",
    "# #     label_btc_balance.after(1000,clock)\n",
    "    \n",
    "#     my_lab1.config(text=hh + \":\" + mm +\":\" + ss)\n",
    "# #Update the Time\n",
    "# def updateTime():\n",
    "#    my_lab.config(text= \"New Text\")\n",
    "\n",
    "# #Creating the label with text property of the clock\n",
    "# my_lab= Label(win,text= \"\",font=(\"sans-serif\", 36), fg= \"red\")\n",
    "# my_lab.pack(pady=20)\n",
    "\n",
    "# # label_btc_balance= Label(win,text= \"\",font=(\"sans-serif\", 36), fg= \"red\")\n",
    "# # label_btc_balance.place(x=50,y=50)\n",
    "\n",
    "# my_lab1= Label(win, text= \"\", font=(\"Helvetica\",20), fg= \"blue\")\n",
    "# my_lab1.pack(pady= 10)\n",
    "\n",
    "\n",
    "# # Define Button\n",
    "# def button_press():\n",
    "#     label_response = tk.Text(win, height=3, width=50)\n",
    "#     label_response.pack()\n",
    "#     #label_response.insert(tk.END,\"\")\n",
    "#     label_response.config(state=\"disabled\")\n",
    "#     label_response.place(x=50,y=250)\n",
    "#     response = t.start()\n",
    "#     label_response.config(state=\"normal\")\n",
    "#     label_response.insert(tk.END,t.start())\n",
    "#     label_response.config(state=\"disabled\")\n",
    "\n",
    "# b1=tk.Button(win,text=\"Ask ME!\",font=(\"bold\", 20),height=2,width=10,bg='blue',fg='white', command=button_press)\n",
    "# b1.place(x=170,y=150)\n",
    "\n",
    "# def connection():\n",
    "#    enableTrace(True)\n",
    "#    ws.run_forever()\n",
    "#    return\n",
    "\n",
    "# t = Thread(target=connection)\n",
    "# #t.start()\n",
    "\n",
    "# #master.mainloop()\n",
    "\n",
    "# #Calling the clock function\n",
    "# clock()\n",
    "# #Keep Running the window\n",
    "# win.mainloop()"
   ]
  },
  {
   "cell_type": "code",
   "execution_count": null,
   "id": "73f1dd0e-7372-490e-b299-409b11b79876",
   "metadata": {},
   "outputs": [],
   "source": [
    "from tkinter import *\n",
    "import time\n",
    "#Create an instance of the canvas\n",
    "win = Tk()\n",
    "\n",
    "#Select the title of the window\n",
    "win.title(\"BITCOIN GENIE 9000\")\n",
    "\n",
    "#Define the geometry of the window\n",
    "win.geometry(\"600x600\")\n",
    "\n",
    "# Title\n",
    "label_title = tk.Label(win, text=\"BITCOIN GENIE 9000\",width=20,font=(\"bold\", 48))\n",
    "label_title.place(x=0,y=25)\n",
    "    \n",
    "# Labels\n",
    "\n",
    "header_usdt= tk.Label(win, text=\"USDT Balance\",width=20,font=(\"bold\", 20))\n",
    "header_usdt.place(x=295,y=120)\n",
    "\n",
    "header_btc= tk.Label(win, text=\"BTC Balance\",width=20,font=(\"bold\", 20))\n",
    "header_btc.place(x=20,y=120)\n",
    "\n",
    "header_total_profit= tk.Label(win, text=\"Total Profit (USDT)\",width=20,font=(\"bold\", 20))\n",
    "header_total_profit.place(x=155,y=220)\n",
    "       \n",
    "def display():\n",
    "    label_usdt.config(text= '%.2f' % financials_df['balance_usdt'].iloc[-1])\n",
    "    label_usdt.after(1000,display)\n",
    "    label_btc.config(text= financials_df['balance_btc'].iloc[-1])\n",
    "    label_btc.after(1000,display)\n",
    "#     label_total_profit.config(text= '%.2f' % (financials_df['delta_btc'].iloc[-1] * financials_df['close'].iloc[-1] + financials_df['delta_usdt'].iloc[-1]))\n",
    "#     label_total_profit.after(1000,display)\n",
    "\n",
    "\n",
    "#Creating the label with text property of the display\n",
    "label_usdt= Label(win,text= \"\",font=(\"sans-serif\", 36), fg= \"green\")\n",
    "label_usdt.place(x=350,y=150)\n",
    "\n",
    "label_btc= Label(win,text= \"\", font=(\"sans-serf\", 36), fg= \"green\")\n",
    "label_btc.place(x=100,y=150)\n",
    "\n",
    "# label_total_profit= Label(win,text= \"\", font=(\"sans-serf\", 36), fg= \"green\")\n",
    "# label_total_profit.place(x=250,y=250)\n",
    "\n",
    "\n",
    "\n",
    "# Define Button\n",
    "def button_press():\n",
    "    label_response = tk.Text(win, height=3, width=50)\n",
    "    label_response.pack()\n",
    "    #label_response.insert(tk.END,\"\")\n",
    "    label_response.config(state=\"disabled\")\n",
    "    label_response.place(x=210,y=400)\n",
    "    response = t.start()\n",
    "    label_response.config(state=\"normal\")\n",
    "    label_response.insert(tk.END,t.start())\n",
    "    label_response.config(state=\"disabled\")\n",
    "\n",
    "b1=tk.Button(win,text=\"ACTIVATE\",font=(\"bold\", 20),height=2,width=10,bg='blue',fg='black', command=button_press)\n",
    "b1.place(x=210,y=300)\n",
    "\n",
    "def connection():\n",
    "   enableTrace(True)\n",
    "   ws.run_forever()\n",
    "   return\n",
    "\n",
    "t = Thread(target=connection)\n",
    "\n",
    "#Calling the clock function\n",
    "display()\n",
    "#Keep Running the window\n",
    "win.mainloop()"
   ]
  },
  {
   "cell_type": "code",
   "execution_count": null,
   "id": "f0deda76-539d-4938-b38f-ab599cf20305",
   "metadata": {},
   "outputs": [],
   "source": [
    "financials_df"
   ]
  },
  {
   "cell_type": "code",
   "execution_count": null,
   "id": "91e37d79-e97d-4896-abb6-6ddc70923907",
   "metadata": {},
   "outputs": [],
   "source": [
    "financials_df['delta_btc']"
   ]
  },
  {
   "cell_type": "code",
   "execution_count": null,
   "id": "3f849b0a-1322-434f-910a-d567c8e41cd3",
   "metadata": {},
   "outputs": [],
   "source": [
    "delta_balance_btc_in_usdt = financials_df['delta_btc'].iloc[-1] * financials_df['close'].iloc[-1]\n",
    "delta_balance_usdt = financials_df['delta_usdt'].iloc[-1]\n",
    "total_pl_in_usdt = delta_balance_btc_in_usdt + delta_balance_usdt"
   ]
  },
  {
   "cell_type": "code",
   "execution_count": null,
   "id": "9c4d7f96-5daf-4228-884f-266b93f12399",
   "metadata": {},
   "outputs": [],
   "source": [
    "total_pl_in_usdt = financials_df['delta_btc'].iloc[-1] * financials_df['close'].iloc[-1] + financials_df['delta_usdt'].iloc[-1]"
   ]
  },
  {
   "cell_type": "code",
   "execution_count": null,
   "id": "3ba1fe7b-b434-4b34-a136-adbfe52e4806",
   "metadata": {},
   "outputs": [],
   "source": [
    "total_pl_in_usdt"
   ]
  },
  {
   "cell_type": "code",
   "execution_count": null,
   "id": "390b8801-7056-47b7-a597-df0d44079938",
   "metadata": {},
   "outputs": [],
   "source": []
  }
 ],
 "metadata": {
  "kernelspec": {
   "display_name": "Python 3 (ipykernel)",
   "language": "python",
   "name": "python3"
  },
  "language_info": {
   "codemirror_mode": {
    "name": "ipython",
    "version": 3
   },
   "file_extension": ".py",
   "mimetype": "text/x-python",
   "name": "python",
   "nbconvert_exporter": "python",
   "pygments_lexer": "ipython3",
   "version": "3.9.5"
  }
 },
 "nbformat": 4,
 "nbformat_minor": 5
}

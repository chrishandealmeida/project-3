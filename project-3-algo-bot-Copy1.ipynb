{
 "cells": [
  {
   "cell_type": "code",
   "execution_count": null,
   "id": "57db8f8c-8d52-4f6e-8aee-df61edade3d2",
   "metadata": {},
   "outputs": [],
   "source": [
    "\"\"\"\n",
    "To Do:\n",
    "- Switch Bollinger calculation to TA Lib\n",
    "- Add RSI Indicator\n",
    "- Create transaction output sentence for trade log\n",
    "- Improve Bollinger Signal sophistication - capture velocity change (nice to have)\n",
    "- Determine best buy/sell thresholds (BUY_THRESHOLD, SELL_THRESHOLD)\n",
    "- Check if we need financials_df defined as global variable\n",
    "\"\"\""
   ]
  },
  {
   "cell_type": "code",
   "execution_count": 3,
   "id": "c181d5da-29a1-4ce5-ae3c-7f14f769629b",
   "metadata": {},
   "outputs": [],
   "source": [
    "import websocket\n",
    "import json\n",
    "import pprint\n",
    "import talib\n",
    "import numpy as np\n",
    "import config\n",
    "import pandas as pd\n",
    "import tkinter as tk\n",
    "from talib import MA_Type\n",
    "from binance.client import Client\n",
    "from binance.enums import *"
   ]
  },
  {
   "cell_type": "code",
   "execution_count": 46,
   "id": "11177bc0-d91e-410b-8895-8284303e21e3",
   "metadata": {},
   "outputs": [],
   "source": [
    "# Constants\n",
    "SOCKET = \"wss://stream.binance.com:9443/ws/btcusdt@miniTicker\"\n",
    "BOLLINGER_WINDOW = 20\n",
    "BOLLINGER_WEIGHT = 1\n",
    "WHALE_WEIGHT = 0\n",
    "BUY_THRESHOLD = 1\n",
    "SELL_THRESHOLD = -1\n",
    "COOLDOWN_WINDOW = 2\n",
    "BUY = 1\n",
    "HOLD = 0\n",
    "SELL = -1\n",
    "MA_TYPE = 0 #Simple MA"
   ]
  },
  {
   "cell_type": "code",
   "execution_count": 30,
   "id": "a88bfdd3-06b6-4d3c-951c-2dc1420c22b1",
   "metadata": {},
   "outputs": [],
   "source": [
    "# Global Variables\n",
    "client = Client(config.API_KEY, config.API_SECRET, testnet = True)\n",
    "financials_df = pd.DataFrame(columns = ['close', 'bollinger_signal', 'whale_signal', 'weighted_signal', 'trade_decision'])"
   ]
  },
  {
   "cell_type": "code",
   "execution_count": 26,
   "id": "9b5b55cb-4fe9-4571-b216-c2e74a39858c",
   "metadata": {},
   "outputs": [],
   "source": [
    "# Creating Bollinger Signal\n",
    "def get_bollinger_signal(close):\n",
    "    upper, middle, lower = talib.BBANDS(close, timeperiod=BOLLINGER_WINDOW, matype=MA_TYPE)\n",
    "    if close[-1] < lower[-1]:\n",
    "        bollinger_long = 1\n",
    "    else:\n",
    "        bollinger_long = 0\n",
    "    if close[-1] > upper[-1]:\n",
    "        bollinger_short = -1\n",
    "    else:\n",
    "        bollinger_short = 0\n",
    "    bollinger_signal = bollinger_long + bollinger_short\n",
    "    return bollinger_signal"
   ]
  },
  {
   "cell_type": "code",
   "execution_count": 27,
   "id": "464855fc-9284-4dd7-9446-aa78603c118a",
   "metadata": {},
   "outputs": [],
   "source": [
    "def get_weighted_signal(signal_values, signal_weights):\n",
    "    signal_weighted_avg = np.average(signal_values, weights=signal_weights)\n",
    "    \n",
    "    if signal_weighted_avg >= BUY_THRESHOLD:\n",
    "        weighted_signal = BUY\n",
    "    elif signal_weighted_avg <= SELL_THRESHOLD:\n",
    "        weighted_signal = SELL\n",
    "    else:\n",
    "        weighted_signal = HOLD\n",
    "\n",
    "    return weighted_signal"
   ]
  },
  {
   "cell_type": "code",
   "execution_count": 48,
   "id": "44e6e648-101d-4901-bc24-2267451dbcef",
   "metadata": {},
   "outputs": [],
   "source": [
    "def trade_decision():\n",
    "    global financials_df\n",
    "    weighted_signals = financials_df['weighted_signal'].iloc[-COOLDOWN_WINDOW:]\n",
    "    current_signal = weighted_signal[-1]\n",
    "    if current_signal == 0:\n",
    "        trade_decision = 'hold'\n",
    "    elif current_signal == 1 and weighted_signals = 1, \"hold\", \"buy\" ):\n",
    "        trade_decision = 'buy'"
   ]
  },
  {
   "cell_type": "code",
   "execution_count": 50,
   "id": "d268771a-fa87-4d7a-b15d-bff646edb43c",
   "metadata": {},
   "outputs": [
    {
     "ename": "NameError",
     "evalue": "name 'weighted_signals' is not defined",
     "output_type": "error",
     "traceback": [
      "\u001b[0;31m---------------------------------------------------------------------------\u001b[0m",
      "\u001b[0;31mNameError\u001b[0m                                 Traceback (most recent call last)",
      "\u001b[0;32m/var/folders/fl/1qjty_fx2s79p6rtm25x0mnh0000gn/T/ipykernel_7031/436735924.py\u001b[0m in \u001b[0;36m<module>\u001b[0;34m\u001b[0m\n\u001b[0;32m----> 1\u001b[0;31m \u001b[0mprint\u001b[0m\u001b[0;34m(\u001b[0m\u001b[0mweighted_signals\u001b[0m\u001b[0;34m)\u001b[0m\u001b[0;34m\u001b[0m\u001b[0;34m\u001b[0m\u001b[0m\n\u001b[0m",
      "\u001b[0;31mNameError\u001b[0m: name 'weighted_signals' is not defined"
     ]
    }
   ],
   "source": []
  },
  {
   "cell_type": "code",
   "execution_count": 47,
   "id": "35e9cfd9-9479-4e5b-9760-29c1a3c400b7",
   "metadata": {},
   "outputs": [
    {
     "data": {
      "text/plain": [
       "3     60000.0\n",
       "4    100000.0\n",
       "Name: close, dtype: float64"
      ]
     },
     "execution_count": 47,
     "metadata": {},
     "output_type": "execute_result"
    }
   ],
   "source": [
    "financials_df['close'].iloc[-COOLDOWN_WINDOW:]"
   ]
  },
  {
   "cell_type": "code",
   "execution_count": 37,
   "id": "ae6c1bd6-67b6-41da-a173-6f953052b963",
   "metadata": {},
   "outputs": [
    {
     "data": {
      "text/html": [
       "<div>\n",
       "<style scoped>\n",
       "    .dataframe tbody tr th:only-of-type {\n",
       "        vertical-align: middle;\n",
       "    }\n",
       "\n",
       "    .dataframe tbody tr th {\n",
       "        vertical-align: top;\n",
       "    }\n",
       "\n",
       "    .dataframe thead th {\n",
       "        text-align: right;\n",
       "    }\n",
       "</style>\n",
       "<table border=\"1\" class=\"dataframe\">\n",
       "  <thead>\n",
       "    <tr style=\"text-align: right;\">\n",
       "      <th></th>\n",
       "      <th>close</th>\n",
       "      <th>bollinger_signal</th>\n",
       "      <th>whale_signal</th>\n",
       "      <th>weighted_signal</th>\n",
       "      <th>trade_decision</th>\n",
       "    </tr>\n",
       "  </thead>\n",
       "  <tbody>\n",
       "    <tr>\n",
       "      <th>0</th>\n",
       "      <td>40000.0</td>\n",
       "      <td>0.0</td>\n",
       "      <td>0.0</td>\n",
       "      <td>0.0</td>\n",
       "      <td>NaN</td>\n",
       "    </tr>\n",
       "    <tr>\n",
       "      <th>1</th>\n",
       "      <td>45000.0</td>\n",
       "      <td>0.0</td>\n",
       "      <td>0.0</td>\n",
       "      <td>0.0</td>\n",
       "      <td>NaN</td>\n",
       "    </tr>\n",
       "    <tr>\n",
       "      <th>2</th>\n",
       "      <td>50000.0</td>\n",
       "      <td>0.0</td>\n",
       "      <td>0.0</td>\n",
       "      <td>0.0</td>\n",
       "      <td>NaN</td>\n",
       "    </tr>\n",
       "    <tr>\n",
       "      <th>3</th>\n",
       "      <td>60000.0</td>\n",
       "      <td>0.0</td>\n",
       "      <td>0.0</td>\n",
       "      <td>0.0</td>\n",
       "      <td>NaN</td>\n",
       "    </tr>\n",
       "    <tr>\n",
       "      <th>4</th>\n",
       "      <td>100000.0</td>\n",
       "      <td>0.0</td>\n",
       "      <td>0.0</td>\n",
       "      <td>0.0</td>\n",
       "      <td>NaN</td>\n",
       "    </tr>\n",
       "  </tbody>\n",
       "</table>\n",
       "</div>"
      ],
      "text/plain": [
       "      close  bollinger_signal  whale_signal  weighted_signal  trade_decision\n",
       "0   40000.0               0.0           0.0              0.0             NaN\n",
       "1   45000.0               0.0           0.0              0.0             NaN\n",
       "2   50000.0               0.0           0.0              0.0             NaN\n",
       "3   60000.0               0.0           0.0              0.0             NaN\n",
       "4  100000.0               0.0           0.0              0.0             NaN"
      ]
     },
     "execution_count": 37,
     "metadata": {},
     "output_type": "execute_result"
    }
   ],
   "source": [
    "financials_df"
   ]
  },
  {
   "cell_type": "code",
   "execution_count": 28,
   "id": "f656cf99-c4a1-46a0-9695-0e472a4372e2",
   "metadata": {},
   "outputs": [],
   "source": [
    "def financials_df_builder(close):\n",
    "    #this function's purpose is to append the latest information to the financials_df\n",
    "    global financials_df\n",
    "    signal_values = []\n",
    "    signal_weights = []\n",
    "    \n",
    "    # Bollinger Signal and Weight\n",
    "    bollinger_signal = 0\n",
    "    if len(financials_df) >= BOLLINGER_WINDOW:\n",
    "        bollinger_signal = get_bollinger_signal(close)\n",
    "    signal_values.append(bollinger_signal)\n",
    "    signal_weights.append(BOLLINGER_WEIGHT)\n",
    "    \n",
    "    # Whale Signal and Weight\n",
    "    whale_signal = 0\n",
    "    signal_values.append(whale_signal)\n",
    "    signal_weights.append(WHALE_WEIGHT)\n",
    "\n",
    "    weighted_signal = get_weighted_signal(signal_values, signal_weights)\n",
    "    financials_df = financials_df.append({'close' : close, 'bollinger_signal' : bollinger_signal, 'whale_signal': whale_signal, 'weighted_signal' : weighted_signal}, ignore_index = True)\n",
    "\n",
    "    return"
   ]
  },
  {
   "cell_type": "code",
   "execution_count": 11,
   "id": "ceecf332-f693-484d-b307-cd571f44f0c4",
   "metadata": {},
   "outputs": [],
   "source": [
    "def order(side, quantity, symbol, order_type=ORDER_TYPE_MARKET):\n",
    "    try:\n",
    "        print(\"sending order\")\n",
    "        order = client.create_order(symbol=symbol, side=side, type=order_type, quantity=quantity)\n",
    "        #print(order)\n",
    "    except Exception as e:\n",
    "        #print(\"an exception occurred - {}\".format(e))\n",
    "        return False, e\n",
    "        #return \"an exception occurred\"\n",
    "\n",
    "    return True, order\n",
    "    #return order"
   ]
  },
  {
   "cell_type": "code",
   "execution_count": 6,
   "id": "5cb95b93-6b66-4a67-b522-43bc822fcd05",
   "metadata": {
    "tags": []
   },
   "outputs": [],
   "source": [
    "# Putting in an order\n",
    "#success, order_response = order('buy', '0.001', 'BTCUSDT')"
   ]
  },
  {
   "cell_type": "code",
   "execution_count": 39,
   "id": "39de68d5-735c-4e4f-ad28-70b29d57971a",
   "metadata": {
    "tags": []
   },
   "outputs": [
    {
     "name": "stdout",
     "output_type": "stream",
     "text": [
      "sending order\n"
     ]
    }
   ],
   "source": [
    "if financials_df['bollinger_signal'].iloc[-1] > 0:\n",
    "    order('buy', '0.001', 'BTCUSDT')\n",
    "elif financials_df['bollinger_signal'].iloc[-1] < 0:\n",
    "    order('sell', '0.001', 'BTCUSDT')\n",
    "else:\n",
    "    print('hold')"
   ]
  },
  {
   "cell_type": "code",
   "execution_count": 43,
   "id": "37a5663f-9818-4df4-a4cb-24102ead647b",
   "metadata": {},
   "outputs": [
    {
     "data": {
      "text/plain": [
       "{'makerCommission': 0,\n",
       " 'takerCommission': 0,\n",
       " 'buyerCommission': 0,\n",
       " 'sellerCommission': 0,\n",
       " 'canTrade': True,\n",
       " 'canWithdraw': False,\n",
       " 'canDeposit': False,\n",
       " 'updateTime': 1627346625501,\n",
       " 'accountType': 'SPOT',\n",
       " 'balances': [{'asset': 'BNB',\n",
       "   'free': '1000.00000000',\n",
       "   'locked': '0.00000000'},\n",
       "  {'asset': 'BTC', 'free': '1.20640900', 'locked': '0.00000000'},\n",
       "  {'asset': 'BUSD', 'free': '10000.00000000', 'locked': '0.00000000'},\n",
       "  {'asset': 'ETH', 'free': '101.00000000', 'locked': '0.00000000'},\n",
       "  {'asset': 'LTC', 'free': '500.00000000', 'locked': '0.00000000'},\n",
       "  {'asset': 'TRX', 'free': '500000.00000000', 'locked': '0.00000000'},\n",
       "  {'asset': 'USDT', 'free': '2263.04887274', 'locked': '0.00000000'},\n",
       "  {'asset': 'XRP', 'free': '50000.00000000', 'locked': '0.00000000'}],\n",
       " 'permissions': ['SPOT']}"
      ]
     },
     "execution_count": 43,
     "metadata": {},
     "output_type": "execute_result"
    }
   ],
   "source": [
    "# current BTC balance = 1.20840900\n",
    "client.get_account()"
   ]
  },
  {
   "cell_type": "code",
   "execution_count": 44,
   "id": "e66bb47e-7f0d-4c08-b9da-1db345234b05",
   "metadata": {},
   "outputs": [
    {
     "name": "stdout",
     "output_type": "stream",
     "text": [
      "{'asset': 'BTC', 'free': '1.20640900', 'locked': '0.00000000'}\n"
     ]
    }
   ],
   "source": [
    "balance_btc = client.get_asset_balance(asset='BTC')\n",
    "print(balance_btc)"
   ]
  },
  {
   "cell_type": "code",
   "execution_count": 21,
   "id": "5709949d-b86b-4252-a3a2-3a9ea3713849",
   "metadata": {},
   "outputs": [],
   "source": [
    "def on_message(ws, message):\n",
    "    #print('received message')\n",
    "    json_message = json.loads(message)\n",
    "    #pprint.pprint(json_message)\n",
    "    close = json_message['c']\n",
    "    #print('close price ' + close)\n",
    "    # get Bollinger values\n",
    "    #print('financials df length ' + len(financials_df))\n",
    "    get_bollinger_signal(float(close))\n",
    "    #print('bollinger signal ' + bollinger_signal)\n",
    "    #financials_df = financials_df.append({'close' : float(close), 'bollinger_signal' : bollinger_signal})\n",
    "    #print(\"close\")\n",
    "    #print('got bollinger signal')"
   ]
  },
  {
   "cell_type": "code",
   "execution_count": 22,
   "id": "4b196db6-7fea-439f-a496-7c5838404c0c",
   "metadata": {},
   "outputs": [],
   "source": [
    "def on_open(ws):\n",
    "    print('opened connection')\n",
    "def on_close(ws):\n",
    "    print('closed connection')\n",
    "ws = websocket.WebSocketApp(SOCKET, on_open=on_open, on_close=on_close, on_message=on_message)\n",
    "ws.run_forever()"
   ]
  },
  {
   "cell_type": "code",
   "execution_count": null,
   "id": "ca20c0b8-e58d-412f-8d60-4f99a88fa788",
   "metadata": {},
   "outputs": [],
   "source": []
  }
 ],
 "metadata": {
  "kernelspec": {
   "display_name": "Python 3 (ipykernel)",
   "language": "python",
   "name": "python3"
  },
  "language_info": {
   "codemirror_mode": {
    "name": "ipython",
    "version": 3
   },
   "file_extension": ".py",
   "mimetype": "text/x-python",
   "name": "python",
   "nbconvert_exporter": "python",
   "pygments_lexer": "ipython3",
   "version": "3.9.5"
  }
 },
 "nbformat": 4,
 "nbformat_minor": 5
}

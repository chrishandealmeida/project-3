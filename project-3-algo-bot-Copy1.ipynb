{
 "cells": [
  {
   "cell_type": "code",
   "execution_count": 1,
   "id": "c181d5da-29a1-4ce5-ae3c-7f14f769629b",
   "metadata": {},
   "outputs": [],
   "source": [
    "import websocket\n",
    "import json\n",
    "import pprint\n",
    "import talib\n",
    "import numpy as np\n",
    "import config\n",
    "import pandas as pd\n",
    "from binance.client import Client\n",
    "from binance.enums import *\n",
    "import tkinter as tk"
   ]
  },
  {
   "cell_type": "code",
   "execution_count": 2,
   "id": "b572d3e3-1a1c-449b-b254-793b42060e6b",
   "metadata": {},
   "outputs": [],
   "source": [
    "SOCKET = \"wss://stream.binance.com:9443/ws/btcusdt@miniTicker\""
   ]
  },
  {
   "cell_type": "code",
   "execution_count": 3,
   "id": "57a02ac7-611d-4beb-b93f-09020da49ce1",
   "metadata": {},
   "outputs": [],
   "source": [
    "# RSI_PERIOD = 14\n",
    "# RSI_OVERBOUGHT = 70\n",
    "# RSI_OVERSOLD = 30\n",
    "# TRADE_SYMBOL = 'ETHUSD'\n",
    "# TRADE_QUANTITY = 0.05"
   ]
  },
  {
   "cell_type": "code",
   "execution_count": 4,
   "id": "0fb72b2d-8134-4084-b447-0914ef900a4a",
   "metadata": {},
   "outputs": [],
   "source": [
    "client = Client(config.API_KEY, config.API_SECRET, testnet = True)"
   ]
  },
  {
   "cell_type": "code",
   "execution_count": 5,
   "id": "4d4af9f0-d50b-45b4-868d-bc43eb433c82",
   "metadata": {},
   "outputs": [],
   "source": [
    "# def order(side, quantity, symbol, order_type=ORDER_TYPE_MARKET):\n",
    "#     try:\n",
    "#         print(\"sending order\")\n",
    "#         order = client.create_order(symbol=symbol, side=side, type=order_type, quantity=quantity)\n",
    "#         #print(order)\n",
    "#     except Exception as e:\n",
    "#         #print(\"an exception occurred - {}\".format(e))\n",
    "#         return False, e\n",
    "#         #return \"an exception occurred\"\n",
    "\n",
    "#     return True, order\n",
    "#     #return order"
   ]
  },
  {
   "cell_type": "code",
   "execution_count": 6,
   "id": "5cb95b93-6b66-4a67-b522-43bc822fcd05",
   "metadata": {},
   "outputs": [],
   "source": [
    "# Putting in a buy order\n",
    "#success, order_response = order('buy', 'TRADE_QUANTITY', 'BTCUSDT')"
   ]
  },
  {
   "cell_type": "code",
   "execution_count": 7,
   "id": "f46c5380-fe83-4264-8926-e96815df645c",
   "metadata": {},
   "outputs": [],
   "source": [
    "# Printing order response\n",
    "#pprint.pprint(order_response)"
   ]
  },
  {
   "cell_type": "code",
   "execution_count": 9,
   "id": "0a888355-5ce2-41dc-970b-1ea763c13ccf",
   "metadata": {},
   "outputs": [],
   "source": [
    "#print(client.response.headers)"
   ]
  },
  {
   "cell_type": "code",
   "execution_count": 10,
   "id": "90d066fa-31c1-47d3-8e29-99b39c329461",
   "metadata": {},
   "outputs": [],
   "source": [
    "#client.get_all_orders(symbol = 'BTCUSDT')"
   ]
  },
  {
   "cell_type": "code",
   "execution_count": 11,
   "id": "a0cfa410-7b1e-41d3-ad2b-538b2c96b05b",
   "metadata": {},
   "outputs": [],
   "source": [
    "# Get \n",
    "#client.get_account()"
   ]
  },
  {
   "cell_type": "code",
   "execution_count": 12,
   "id": "e66bb47e-7f0d-4c08-b9da-1db345234b05",
   "metadata": {},
   "outputs": [],
   "source": [
    "# balance_btc = client.get_asset_balance(asset='BTC')\n",
    "# print(balance_btc)"
   ]
  },
  {
   "cell_type": "code",
   "execution_count": 13,
   "id": "84b03061-df83-435e-bb59-a3d9fc78488c",
   "metadata": {},
   "outputs": [],
   "source": [
    "def on_open(ws):\n",
    "    print('opened connection')"
   ]
  },
  {
   "cell_type": "code",
   "execution_count": 14,
   "id": "96afb35f-e784-435d-93af-de4b798e98f8",
   "metadata": {},
   "outputs": [],
   "source": [
    "def on_close(ws):\n",
    "    print('closed connection')"
   ]
  },
  {
   "cell_type": "code",
   "execution_count": 15,
   "id": "a6af511e-abad-4230-8f61-6f8460781e7e",
   "metadata": {},
   "outputs": [],
   "source": [
    "# def on_message(ws, message):\n",
    "#     print('received message')\n",
    "#     json_message = json.loads(message)\n",
    "#     pprint.pprint(json_message)\n",
    "    \n",
    "#     candle = json_message['k']\n",
    "    \n",
    "#     is_candle_closed = candle['x']\n",
    "#     close = candle['c']\n",
    "    \n",
    "#     if is_candle_closed:\n",
    "#         print(\"candle closed at {}\".format(close))\n",
    "#         closes.append(float(close))\n",
    "#         print(\"closes\")\n",
    "#         print(closes)\n",
    "        \n",
    "#         if len(closes) > RSI_PERIOD"
   ]
  },
  {
   "cell_type": "code",
   "execution_count": 16,
   "id": "f1394049-c79b-4f6e-8c17-394428edab2b",
   "metadata": {},
   "outputs": [
    {
     "data": {
      "text/html": [
       "<div>\n",
       "<style scoped>\n",
       "    .dataframe tbody tr th:only-of-type {\n",
       "        vertical-align: middle;\n",
       "    }\n",
       "\n",
       "    .dataframe tbody tr th {\n",
       "        vertical-align: top;\n",
       "    }\n",
       "\n",
       "    .dataframe thead th {\n",
       "        text-align: right;\n",
       "    }\n",
       "</style>\n",
       "<table border=\"1\" class=\"dataframe\">\n",
       "  <thead>\n",
       "    <tr style=\"text-align: right;\">\n",
       "      <th></th>\n",
       "      <th>close</th>\n",
       "      <th>bollinger_signal</th>\n",
       "    </tr>\n",
       "  </thead>\n",
       "  <tbody>\n",
       "  </tbody>\n",
       "</table>\n",
       "</div>"
      ],
      "text/plain": [
       "Empty DataFrame\n",
       "Columns: [close, bollinger_signal]\n",
       "Index: []"
      ]
     },
     "execution_count": 16,
     "metadata": {},
     "output_type": "execute_result"
    }
   ],
   "source": [
    "financials_df = pd.DataFrame(columns = ['close', 'bollinger_signal'])\n",
    "financials_df.head()"
   ]
  },
  {
   "cell_type": "code",
   "execution_count": 17,
   "id": "e8e3ce65-9276-4aff-8805-69f81add12c2",
   "metadata": {},
   "outputs": [],
   "source": [
    "# BOLLINGER_WINDOW = 20\n",
    "# def get_bollinger_signal(close):\n",
    "#     print('getting bollinger signal')\n",
    "#     print('financial dataframe')\n",
    "#     global financials_df\n",
    "#     #print(financials_df)\n",
    "#     #print('close price ' + close)\n",
    "#     #print('financials df length' + len(financials_df))\n",
    "#     if len(financials_df) < BOLLINGER_WINDOW:\n",
    "#         financials_df = financials_df.append({'close' : float(close), 'bollinger_signal' : 0}, ignore_index = True)\n",
    "#         print('length less than 20')\n",
    "#         return\n",
    "#     else:\n",
    "#         print('length > 20')\n",
    "#         bollinger_mean = financials_df['close'].rolling(window=BOLLINGER_WINDOW).mean()\n",
    "#         print('bollinger mean ' + bollinger_mean)\n",
    "#         bollinger_std = financials_df['close'].rolling(window=BOLLINGER_WINDOW).std()\n",
    "#         bollinger_upper_band = bollinger_mean + bollinger_std\n",
    "#         bollinger_lower_band = bollinger_mean - bollinger_std\n",
    "#         bollinger_long = np.where(close < bollinger_lower_band, 1.0, 0.0)\n",
    "#         bollinger_short = np.where(close > bollinger_upper_band, -1.0, 0.0)\n",
    "#         bollinger_signal = bollinger_long + bollinger_short\n",
    "#         financials_df = financials_df.append({'close' : float(close), 'bollinger_signal' : bollinger_signal}, ignore_index = True)\n",
    "#         return"
   ]
  },
  {
   "cell_type": "code",
   "execution_count": 18,
   "id": "41613d00-c643-4132-bea0-e0c11ffb5b57",
   "metadata": {},
   "outputs": [],
   "source": [
    "# BOLLINGER_WINDOW = 20\n",
    "# def get_bollinger_signal(close):\n",
    "#     print('getting bollinger signal')\n",
    "#     global financials_df\n",
    "#     print('our financial df ')\n",
    "#     financials_df\n",
    "#     bollinger_mean = financials_df['close'].rolling(window=BOLLINGER_WINDOW).mean()\n",
    "#     bollinger_std = financials_df['close'].rolling(window=BOLLINGER_WINDOW).std()\n",
    "#     bollinger_upper_band = bollinger_mean + bollinger_std\n",
    "#     bollinger_lower_band = bollinger_mean - bollinger_std\n",
    "#     bollinger_long = np.where(close < bollinger_lower_band, 1.0, 0.0)\n",
    "#     bollinger_short = np.where(close > bollinger_upper_band, -1.0, 0.0)\n",
    "#     bollinger_signal = bollinger_long + bollinger_short\n",
    "#     financials_df = financials_df.append({'close' : float(close), 'bollinger_signal' : bollinger_signal}, ignore_index = True)\n",
    "#     return"
   ]
  },
  {
   "cell_type": "code",
   "execution_count": 72,
   "id": "9b5b55cb-4fe9-4571-b216-c2e74a39858c",
   "metadata": {},
   "outputs": [],
   "source": [
    "BOLLINGER_WINDOW = 3\n",
    "def get_bollinger_signal(close):\n",
    "    global financials_df\n",
    "    bollinger_mean = financials_df['close'].rolling(window=BOLLINGER_WINDOW).mean()\n",
    "    bollinger_std = financials_df['close'].rolling(window=BOLLINGER_WINDOW).std()\n",
    "    bollinger_upper_band = bollinger_mean + bollinger_std\n",
    "    bollinger_lower_band = bollinger_mean - bollinger_std\n",
    "    bollinger_long = np.where(close < bollinger_lower_band, 1.0, 0.0)\n",
    "    bollinger_short = np.where(close > bollinger_upper_band, -1.0, 0.0)\n",
    "    bollinger_signal = bollinger_long + bollinger_short\n",
    "    return bollinger_signal"
   ]
  },
  {
   "cell_type": "code",
   "execution_count": 73,
   "id": "5709949d-b86b-4252-a3a2-3a9ea3713849",
   "metadata": {},
   "outputs": [],
   "source": [
    "def on_message(ws, message):\n",
    "    #print('received message')\n",
    "    json_message = json.loads(message)\n",
    "    close = json_message['c']\n",
    "    financials_df_builder(float(close))\n",
    "    #print('got bollinger signal')"
   ]
  },
  {
   "cell_type": "code",
   "execution_count": 74,
   "id": "4b196db6-7fea-439f-a496-7c5838404c0c",
   "metadata": {},
   "outputs": [],
   "source": [
    "ws = websocket.WebSocketApp(SOCKET, on_open=on_open, on_close=on_close, on_message=on_message)"
   ]
  },
  {
   "cell_type": "code",
   "execution_count": 22,
   "id": "c64d58c2-f8cf-4b6e-8a1c-832c5e87baa1",
   "metadata": {},
   "outputs": [
    {
     "name": "stdout",
     "output_type": "stream",
     "text": [
      "opened connection\n"
     ]
    },
    {
     "data": {
      "text/plain": [
       "False"
      ]
     },
     "execution_count": 22,
     "metadata": {},
     "output_type": "execute_result"
    }
   ],
   "source": [
    "ws.run_forever()"
   ]
  },
  {
   "cell_type": "code",
   "execution_count": 44,
   "id": "0d49675a-c3e3-4b19-a45b-227a4ec00ce2",
   "metadata": {},
   "outputs": [
    {
     "data": {
      "text/html": [
       "<div>\n",
       "<style scoped>\n",
       "    .dataframe tbody tr th:only-of-type {\n",
       "        vertical-align: middle;\n",
       "    }\n",
       "\n",
       "    .dataframe tbody tr th {\n",
       "        vertical-align: top;\n",
       "    }\n",
       "\n",
       "    .dataframe thead th {\n",
       "        text-align: right;\n",
       "    }\n",
       "</style>\n",
       "<table border=\"1\" class=\"dataframe\">\n",
       "  <thead>\n",
       "    <tr style=\"text-align: right;\">\n",
       "      <th></th>\n",
       "      <th>close</th>\n",
       "      <th>bollinger_signal</th>\n",
       "    </tr>\n",
       "  </thead>\n",
       "  <tbody>\n",
       "    <tr>\n",
       "      <th>0</th>\n",
       "      <td>39826.78</td>\n",
       "      <td>0.0</td>\n",
       "    </tr>\n",
       "    <tr>\n",
       "      <th>1</th>\n",
       "      <td>39824.47</td>\n",
       "      <td>0.0</td>\n",
       "    </tr>\n",
       "    <tr>\n",
       "      <th>2</th>\n",
       "      <td>39822.50</td>\n",
       "      <td>0.0</td>\n",
       "    </tr>\n",
       "    <tr>\n",
       "      <th>3</th>\n",
       "      <td>39822.50</td>\n",
       "      <td>0.0</td>\n",
       "    </tr>\n",
       "    <tr>\n",
       "      <th>4</th>\n",
       "      <td>39822.50</td>\n",
       "      <td>0.0</td>\n",
       "    </tr>\n",
       "    <tr>\n",
       "      <th>5</th>\n",
       "      <td>39825.62</td>\n",
       "      <td>-1.0</td>\n",
       "    </tr>\n",
       "    <tr>\n",
       "      <th>6</th>\n",
       "      <td>39825.62</td>\n",
       "      <td>-1.0</td>\n",
       "    </tr>\n",
       "  </tbody>\n",
       "</table>\n",
       "</div>"
      ],
      "text/plain": [
       "      close  bollinger_signal\n",
       "0  39826.78               0.0\n",
       "1  39824.47               0.0\n",
       "2  39822.50               0.0\n",
       "3  39822.50               0.0\n",
       "4  39822.50               0.0\n",
       "5  39825.62              -1.0\n",
       "6  39825.62              -1.0"
      ]
     },
     "execution_count": 44,
     "metadata": {},
     "output_type": "execute_result"
    }
   ],
   "source": [
    "financials_df"
   ]
  },
  {
   "cell_type": "code",
   "execution_count": null,
   "id": "37db68d1-29d9-4ee5-8ebf-c0f8f3fb34c0",
   "metadata": {},
   "outputs": [],
   "source": [
    "# Technical Indicator Weights\n",
    "weight_bollinger = \n",
    "weight_whale = \n",
    "weight_RSI\n"
   ]
  },
  {
   "cell_type": "code",
   "execution_count": 67,
   "id": "4a76c2b1-3f37-43bc-9c93-89d1bb98c78a",
   "metadata": {},
   "outputs": [
    {
     "data": {
      "text/html": [
       "<div>\n",
       "<style scoped>\n",
       "    .dataframe tbody tr th:only-of-type {\n",
       "        vertical-align: middle;\n",
       "    }\n",
       "\n",
       "    .dataframe tbody tr th {\n",
       "        vertical-align: top;\n",
       "    }\n",
       "\n",
       "    .dataframe thead th {\n",
       "        text-align: right;\n",
       "    }\n",
       "</style>\n",
       "<table border=\"1\" class=\"dataframe\">\n",
       "  <thead>\n",
       "    <tr style=\"text-align: right;\">\n",
       "      <th></th>\n",
       "      <th>close</th>\n",
       "      <th>bollinger_signal</th>\n",
       "    </tr>\n",
       "  </thead>\n",
       "  <tbody>\n",
       "    <tr>\n",
       "      <th>0</th>\n",
       "      <td>39826.78</td>\n",
       "      <td>0.0</td>\n",
       "    </tr>\n",
       "    <tr>\n",
       "      <th>1</th>\n",
       "      <td>39824.47</td>\n",
       "      <td>0.0</td>\n",
       "    </tr>\n",
       "    <tr>\n",
       "      <th>2</th>\n",
       "      <td>39822.50</td>\n",
       "      <td>0.0</td>\n",
       "    </tr>\n",
       "    <tr>\n",
       "      <th>3</th>\n",
       "      <td>39822.50</td>\n",
       "      <td>0.0</td>\n",
       "    </tr>\n",
       "    <tr>\n",
       "      <th>4</th>\n",
       "      <td>39822.50</td>\n",
       "      <td>0.0</td>\n",
       "    </tr>\n",
       "    <tr>\n",
       "      <th>5</th>\n",
       "      <td>39825.62</td>\n",
       "      <td>-1.0</td>\n",
       "    </tr>\n",
       "    <tr>\n",
       "      <th>6</th>\n",
       "      <td>39825.62</td>\n",
       "      <td>-1.0</td>\n",
       "    </tr>\n",
       "  </tbody>\n",
       "</table>\n",
       "</div>"
      ],
      "text/plain": [
       "      close  bollinger_signal\n",
       "0  39826.78               0.0\n",
       "1  39824.47               0.0\n",
       "2  39822.50               0.0\n",
       "3  39822.50               0.0\n",
       "4  39822.50               0.0\n",
       "5  39825.62              -1.0\n",
       "6  39825.62              -1.0"
      ]
     },
     "execution_count": 67,
     "metadata": {},
     "output_type": "execute_result"
    }
   ],
   "source": [
    "financials_df"
   ]
  },
  {
   "cell_type": "code",
   "execution_count": 75,
   "id": "8e948642-829f-47b3-813b-76c4367dbb9b",
   "metadata": {},
   "outputs": [],
   "source": [
    "def financials_df_builder(close):\n",
    "    #this function's purpose is to append the latest information to the financials_df\n",
    "    global financials_df\n",
    "    bollinger_signal = 0\n",
    "    bollinger_weight = 1\n",
    "    if len(financials_df) >= BOLLINGER_WINDOW:\n",
    "        bollinger_signal = get_bollinger_signal(close)\n",
    "    whale_signal = 0\n",
    "    whale_weight  = 0\n",
    "    signal_list = []\n",
    "    signal_list.append((bollinger_signal, bollinger_weight))\n",
    "    signal_list.append((whale_signal, whale_weight))\n",
    "    decision = trade_decision(signal_list)\n",
    "    print(decision)\n",
    "    #financials_df = financials_df.append({'close' : float(close), 'bollinger_signal' : bollinger_signal[-1]}, ignore_index = True)\n",
    "\n",
    "    return"
   ]
  },
  {
   "cell_type": "code",
   "execution_count": 81,
   "id": "f9e52cf6-db64-4774-9f30-53388f300a7a",
   "metadata": {},
   "outputs": [
    {
     "name": "stdout",
     "output_type": "stream",
     "text": [
      "[(array([ 0.,  0., -1., -1., -1., -1., -1.]), 1), (0, 0)]\n",
      "[ 0.  0. -1. -1. -1. -1. -1.]\n",
      "decision\n"
     ]
    }
   ],
   "source": [
    "financials_df_builder(40000)"
   ]
  },
  {
   "cell_type": "code",
   "execution_count": 80,
   "id": "ceecf332-f693-484d-b307-cd571f44f0c4",
   "metadata": {},
   "outputs": [],
   "source": [
    "def trade_decision(signal_list):\n",
    "    signal_total = 0\n",
    "    print(signal_list)\n",
    "    for signal, weight in signal_list:\n",
    "        signal_total = signal_total + signal * weight\n",
    "    print(signal_total)\n",
    "#     if signal_total > 0:\n",
    "#         decision = 'buy'\n",
    "#     elif signal_total < 0:\n",
    "#         decision = 'sell'\n",
    "#     else:\n",
    "#         decision = 'hold'\n",
    "    \n",
    "    return 'decision'"
   ]
  },
  {
   "cell_type": "code",
   "execution_count": 66,
   "id": "be96a358-2288-40cb-8169-589e2ab1dcfa",
   "metadata": {},
   "outputs": [
    {
     "data": {
      "text/plain": [
       "'sell'"
      ]
     },
     "execution_count": 66,
     "metadata": {},
     "output_type": "execute_result"
    }
   ],
   "source": [
    "trade_decision([(1,1),(-1,2)])"
   ]
  },
  {
   "cell_type": "code",
   "execution_count": null,
   "id": "39de68d5-735c-4e4f-ad28-70b29d57971a",
   "metadata": {},
   "outputs": [],
   "source": [
    "financials_df['bollinger_signal'].iloc[-1] "
   ]
  },
  {
   "cell_type": "code",
   "execution_count": null,
   "id": "37a5663f-9818-4df4-a4cb-24102ead647b",
   "metadata": {},
   "outputs": [],
   "source": []
  }
 ],
 "metadata": {
  "kernelspec": {
   "display_name": "Python 3 (ipykernel)",
   "language": "python",
   "name": "python3"
  },
  "language_info": {
   "codemirror_mode": {
    "name": "ipython",
    "version": 3
   },
   "file_extension": ".py",
   "mimetype": "text/x-python",
   "name": "python",
   "nbconvert_exporter": "python",
   "pygments_lexer": "ipython3",
   "version": "3.9.5"
  }
 },
 "nbformat": 4,
 "nbformat_minor": 5
}
